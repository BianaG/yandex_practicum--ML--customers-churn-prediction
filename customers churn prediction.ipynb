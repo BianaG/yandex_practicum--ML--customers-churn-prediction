{
 "cells": [
  {
   "cell_type": "markdown",
   "id": "a8780864",
   "metadata": {},
   "source": [
    "# Customers Churn Prediction Project"
   ]
  },
  {
   "cell_type": "markdown",
   "id": "af3f4588",
   "metadata": {},
   "source": [
    "# Introduction"
   ]
  },
  {
   "cell_type": "markdown",
   "id": "6568703a",
   "metadata": {},
   "source": [
    "The customers of the bank are leaving: little by little, chipping away every month. In this project, we need to predict whether a customer will leave the bank soon or not. We will build a model with the maximum possible F1 score - at least 0.59, and also measure the AUC-ROC metric."
   ]
  },
  {
   "cell_type": "markdown",
   "id": "63a4b5a6",
   "metadata": {},
   "source": [
    "### Step 1: Download and prepare the data. Explain the procedure"
   ]
  },
  {
   "cell_type": "code",
   "execution_count": 1,
   "id": "8b92a38e",
   "metadata": {},
   "outputs": [],
   "source": [
    "import pandas as pd\n",
    "import sidetable as stb\n",
    "import numpy as np\n",
    "\n",
    "import matplotlib.pyplot as plt\n",
    "import seaborn as sns\n",
    "\n",
    "from sklearn.model_selection import train_test_split\n",
    "from sklearn.metrics import f1_score\n",
    "from sklearn.metrics import roc_auc_score\n",
    "from sklearn.preprocessing import OrdinalEncoder\n",
    "from sklearn.dummy import DummyClassifier\n",
    "from sklearn.preprocessing import StandardScaler \n",
    "from sklearn.utils import shuffle\n",
    "\n",
    "from sklearn.linear_model import LogisticRegression\n",
    "from sklearn.tree import DecisionTreeClassifier\n",
    "from sklearn.ensemble import RandomForestClassifier"
   ]
  },
  {
   "cell_type": "markdown",
   "id": "d9dd4dad",
   "metadata": {},
   "source": [
    "Let's download the data and examine it. "
   ]
  },
  {
   "cell_type": "code",
   "execution_count": 2,
   "id": "63a272bd",
   "metadata": {},
   "outputs": [],
   "source": [
    "try:\n",
    "    data = pd.read_csv('Churn.csv')\n",
    "except:\n",
    "    data = pd.read_csv('/datasets/Churn.csv')"
   ]
  },
  {
   "cell_type": "code",
   "execution_count": 3,
   "id": "725fb15d",
   "metadata": {},
   "outputs": [
    {
     "name": "stdout",
     "output_type": "stream",
     "text": [
      "<class 'pandas.core.frame.DataFrame'>\n",
      "RangeIndex: 10000 entries, 0 to 9999\n",
      "Data columns (total 14 columns):\n",
      " #   Column           Non-Null Count  Dtype  \n",
      "---  ------           --------------  -----  \n",
      " 0   RowNumber        10000 non-null  int64  \n",
      " 1   CustomerId       10000 non-null  int64  \n",
      " 2   Surname          10000 non-null  object \n",
      " 3   CreditScore      10000 non-null  int64  \n",
      " 4   Geography        10000 non-null  object \n",
      " 5   Gender           10000 non-null  object \n",
      " 6   Age              10000 non-null  int64  \n",
      " 7   Tenure           9091 non-null   float64\n",
      " 8   Balance          10000 non-null  float64\n",
      " 9   NumOfProducts    10000 non-null  int64  \n",
      " 10  HasCrCard        10000 non-null  int64  \n",
      " 11  IsActiveMember   10000 non-null  int64  \n",
      " 12  EstimatedSalary  10000 non-null  float64\n",
      " 13  Exited           10000 non-null  int64  \n",
      "dtypes: float64(3), int64(8), object(3)\n",
      "memory usage: 1.1+ MB\n"
     ]
    }
   ],
   "source": [
    "data.info()"
   ]
  },
  {
   "cell_type": "markdown",
   "id": "0179ecef",
   "metadata": {},
   "source": [
    "We have 14 columns, 3 object type,s and 11 numerical. \n",
    "Let's go further. "
   ]
  },
  {
   "cell_type": "code",
   "execution_count": 4,
   "id": "5548114f",
   "metadata": {},
   "outputs": [
    {
     "data": {
      "text/html": [
       "<div>\n",
       "<style scoped>\n",
       "    .dataframe tbody tr th:only-of-type {\n",
       "        vertical-align: middle;\n",
       "    }\n",
       "\n",
       "    .dataframe tbody tr th {\n",
       "        vertical-align: top;\n",
       "    }\n",
       "\n",
       "    .dataframe thead th {\n",
       "        text-align: right;\n",
       "    }\n",
       "</style>\n",
       "<table border=\"1\" class=\"dataframe\">\n",
       "  <thead>\n",
       "    <tr style=\"text-align: right;\">\n",
       "      <th></th>\n",
       "      <th>RowNumber</th>\n",
       "      <th>CustomerId</th>\n",
       "      <th>Surname</th>\n",
       "      <th>CreditScore</th>\n",
       "      <th>Geography</th>\n",
       "      <th>Gender</th>\n",
       "      <th>Age</th>\n",
       "      <th>Tenure</th>\n",
       "      <th>Balance</th>\n",
       "      <th>NumOfProducts</th>\n",
       "      <th>HasCrCard</th>\n",
       "      <th>IsActiveMember</th>\n",
       "      <th>EstimatedSalary</th>\n",
       "      <th>Exited</th>\n",
       "    </tr>\n",
       "  </thead>\n",
       "  <tbody>\n",
       "    <tr>\n",
       "      <th>0</th>\n",
       "      <td>1</td>\n",
       "      <td>15634602</td>\n",
       "      <td>Hargrave</td>\n",
       "      <td>619</td>\n",
       "      <td>France</td>\n",
       "      <td>Female</td>\n",
       "      <td>42</td>\n",
       "      <td>2.0</td>\n",
       "      <td>0.00</td>\n",
       "      <td>1</td>\n",
       "      <td>1</td>\n",
       "      <td>1</td>\n",
       "      <td>101348.88</td>\n",
       "      <td>1</td>\n",
       "    </tr>\n",
       "    <tr>\n",
       "      <th>1</th>\n",
       "      <td>2</td>\n",
       "      <td>15647311</td>\n",
       "      <td>Hill</td>\n",
       "      <td>608</td>\n",
       "      <td>Spain</td>\n",
       "      <td>Female</td>\n",
       "      <td>41</td>\n",
       "      <td>1.0</td>\n",
       "      <td>83807.86</td>\n",
       "      <td>1</td>\n",
       "      <td>0</td>\n",
       "      <td>1</td>\n",
       "      <td>112542.58</td>\n",
       "      <td>0</td>\n",
       "    </tr>\n",
       "    <tr>\n",
       "      <th>2</th>\n",
       "      <td>3</td>\n",
       "      <td>15619304</td>\n",
       "      <td>Onio</td>\n",
       "      <td>502</td>\n",
       "      <td>France</td>\n",
       "      <td>Female</td>\n",
       "      <td>42</td>\n",
       "      <td>8.0</td>\n",
       "      <td>159660.80</td>\n",
       "      <td>3</td>\n",
       "      <td>1</td>\n",
       "      <td>0</td>\n",
       "      <td>113931.57</td>\n",
       "      <td>1</td>\n",
       "    </tr>\n",
       "    <tr>\n",
       "      <th>3</th>\n",
       "      <td>4</td>\n",
       "      <td>15701354</td>\n",
       "      <td>Boni</td>\n",
       "      <td>699</td>\n",
       "      <td>France</td>\n",
       "      <td>Female</td>\n",
       "      <td>39</td>\n",
       "      <td>1.0</td>\n",
       "      <td>0.00</td>\n",
       "      <td>2</td>\n",
       "      <td>0</td>\n",
       "      <td>0</td>\n",
       "      <td>93826.63</td>\n",
       "      <td>0</td>\n",
       "    </tr>\n",
       "    <tr>\n",
       "      <th>4</th>\n",
       "      <td>5</td>\n",
       "      <td>15737888</td>\n",
       "      <td>Mitchell</td>\n",
       "      <td>850</td>\n",
       "      <td>Spain</td>\n",
       "      <td>Female</td>\n",
       "      <td>43</td>\n",
       "      <td>2.0</td>\n",
       "      <td>125510.82</td>\n",
       "      <td>1</td>\n",
       "      <td>1</td>\n",
       "      <td>1</td>\n",
       "      <td>79084.10</td>\n",
       "      <td>0</td>\n",
       "    </tr>\n",
       "  </tbody>\n",
       "</table>\n",
       "</div>"
      ],
      "text/plain": [
       "   RowNumber  CustomerId   Surname  CreditScore Geography  Gender  Age  \\\n",
       "0          1    15634602  Hargrave          619    France  Female   42   \n",
       "1          2    15647311      Hill          608     Spain  Female   41   \n",
       "2          3    15619304      Onio          502    France  Female   42   \n",
       "3          4    15701354      Boni          699    France  Female   39   \n",
       "4          5    15737888  Mitchell          850     Spain  Female   43   \n",
       "\n",
       "   Tenure    Balance  NumOfProducts  HasCrCard  IsActiveMember  \\\n",
       "0     2.0       0.00              1          1               1   \n",
       "1     1.0   83807.86              1          0               1   \n",
       "2     8.0  159660.80              3          1               0   \n",
       "3     1.0       0.00              2          0               0   \n",
       "4     2.0  125510.82              1          1               1   \n",
       "\n",
       "   EstimatedSalary  Exited  \n",
       "0        101348.88       1  \n",
       "1        112542.58       0  \n",
       "2        113931.57       1  \n",
       "3         93826.63       0  \n",
       "4         79084.10       0  "
      ]
     },
     "execution_count": 4,
     "metadata": {},
     "output_type": "execute_result"
    }
   ],
   "source": [
    "data.head()"
   ]
  },
  {
   "cell_type": "markdown",
   "id": "2f84a4a9",
   "metadata": {},
   "source": [
    "So here we see the first thing that we will change - let's make all the features' names and their value lowercase. "
   ]
  },
  {
   "cell_type": "code",
   "execution_count": 5,
   "id": "19558367",
   "metadata": {},
   "outputs": [
    {
     "data": {
      "text/html": [
       "<div>\n",
       "<style scoped>\n",
       "    .dataframe tbody tr th:only-of-type {\n",
       "        vertical-align: middle;\n",
       "    }\n",
       "\n",
       "    .dataframe tbody tr th {\n",
       "        vertical-align: top;\n",
       "    }\n",
       "\n",
       "    .dataframe thead th {\n",
       "        text-align: right;\n",
       "    }\n",
       "</style>\n",
       "<table border=\"1\" class=\"dataframe\">\n",
       "  <thead>\n",
       "    <tr style=\"text-align: right;\">\n",
       "      <th></th>\n",
       "      <th>rownumber</th>\n",
       "      <th>customerid</th>\n",
       "      <th>surname</th>\n",
       "      <th>creditscore</th>\n",
       "      <th>geography</th>\n",
       "      <th>gender</th>\n",
       "      <th>age</th>\n",
       "      <th>tenure</th>\n",
       "      <th>balance</th>\n",
       "      <th>numofproducts</th>\n",
       "      <th>hascrcard</th>\n",
       "      <th>isactivemember</th>\n",
       "      <th>estimatedsalary</th>\n",
       "      <th>exited</th>\n",
       "    </tr>\n",
       "  </thead>\n",
       "  <tbody>\n",
       "    <tr>\n",
       "      <th>0</th>\n",
       "      <td>1</td>\n",
       "      <td>15634602</td>\n",
       "      <td>Hargrave</td>\n",
       "      <td>619</td>\n",
       "      <td>France</td>\n",
       "      <td>Female</td>\n",
       "      <td>42</td>\n",
       "      <td>2.0</td>\n",
       "      <td>0.00</td>\n",
       "      <td>1</td>\n",
       "      <td>1</td>\n",
       "      <td>1</td>\n",
       "      <td>101348.88</td>\n",
       "      <td>1</td>\n",
       "    </tr>\n",
       "    <tr>\n",
       "      <th>1</th>\n",
       "      <td>2</td>\n",
       "      <td>15647311</td>\n",
       "      <td>Hill</td>\n",
       "      <td>608</td>\n",
       "      <td>Spain</td>\n",
       "      <td>Female</td>\n",
       "      <td>41</td>\n",
       "      <td>1.0</td>\n",
       "      <td>83807.86</td>\n",
       "      <td>1</td>\n",
       "      <td>0</td>\n",
       "      <td>1</td>\n",
       "      <td>112542.58</td>\n",
       "      <td>0</td>\n",
       "    </tr>\n",
       "    <tr>\n",
       "      <th>2</th>\n",
       "      <td>3</td>\n",
       "      <td>15619304</td>\n",
       "      <td>Onio</td>\n",
       "      <td>502</td>\n",
       "      <td>France</td>\n",
       "      <td>Female</td>\n",
       "      <td>42</td>\n",
       "      <td>8.0</td>\n",
       "      <td>159660.80</td>\n",
       "      <td>3</td>\n",
       "      <td>1</td>\n",
       "      <td>0</td>\n",
       "      <td>113931.57</td>\n",
       "      <td>1</td>\n",
       "    </tr>\n",
       "    <tr>\n",
       "      <th>3</th>\n",
       "      <td>4</td>\n",
       "      <td>15701354</td>\n",
       "      <td>Boni</td>\n",
       "      <td>699</td>\n",
       "      <td>France</td>\n",
       "      <td>Female</td>\n",
       "      <td>39</td>\n",
       "      <td>1.0</td>\n",
       "      <td>0.00</td>\n",
       "      <td>2</td>\n",
       "      <td>0</td>\n",
       "      <td>0</td>\n",
       "      <td>93826.63</td>\n",
       "      <td>0</td>\n",
       "    </tr>\n",
       "    <tr>\n",
       "      <th>4</th>\n",
       "      <td>5</td>\n",
       "      <td>15737888</td>\n",
       "      <td>Mitchell</td>\n",
       "      <td>850</td>\n",
       "      <td>Spain</td>\n",
       "      <td>Female</td>\n",
       "      <td>43</td>\n",
       "      <td>2.0</td>\n",
       "      <td>125510.82</td>\n",
       "      <td>1</td>\n",
       "      <td>1</td>\n",
       "      <td>1</td>\n",
       "      <td>79084.10</td>\n",
       "      <td>0</td>\n",
       "    </tr>\n",
       "  </tbody>\n",
       "</table>\n",
       "</div>"
      ],
      "text/plain": [
       "   rownumber  customerid   surname  creditscore geography  gender  age  \\\n",
       "0          1    15634602  Hargrave          619    France  Female   42   \n",
       "1          2    15647311      Hill          608     Spain  Female   41   \n",
       "2          3    15619304      Onio          502    France  Female   42   \n",
       "3          4    15701354      Boni          699    France  Female   39   \n",
       "4          5    15737888  Mitchell          850     Spain  Female   43   \n",
       "\n",
       "   tenure    balance  numofproducts  hascrcard  isactivemember  \\\n",
       "0     2.0       0.00              1          1               1   \n",
       "1     1.0   83807.86              1          0               1   \n",
       "2     8.0  159660.80              3          1               0   \n",
       "3     1.0       0.00              2          0               0   \n",
       "4     2.0  125510.82              1          1               1   \n",
       "\n",
       "   estimatedsalary  exited  \n",
       "0        101348.88       1  \n",
       "1        112542.58       0  \n",
       "2        113931.57       1  \n",
       "3         93826.63       0  \n",
       "4         79084.10       0  "
      ]
     },
     "execution_count": 5,
     "metadata": {},
     "output_type": "execute_result"
    }
   ],
   "source": [
    "data.columns = data.columns.str.lower()\n",
    "data.head()"
   ]
  },
  {
   "cell_type": "markdown",
   "id": "215b2efb",
   "metadata": {},
   "source": [
    "Great!\n",
    "\n",
    "The features' names are fixed. Let's move on to the values."
   ]
  },
  {
   "cell_type": "code",
   "execution_count": 6,
   "id": "801398c6",
   "metadata": {},
   "outputs": [],
   "source": [
    "for i in range(len(data.columns)):\n",
    "    feature = data.dtypes.index[i]\n",
    "    if data.dtypes[i] == 'O':\n",
    "        data[feature] = data[feature].str.lower()"
   ]
  },
  {
   "cell_type": "code",
   "execution_count": 7,
   "id": "ed92dc16",
   "metadata": {},
   "outputs": [
    {
     "data": {
      "text/html": [
       "<div>\n",
       "<style scoped>\n",
       "    .dataframe tbody tr th:only-of-type {\n",
       "        vertical-align: middle;\n",
       "    }\n",
       "\n",
       "    .dataframe tbody tr th {\n",
       "        vertical-align: top;\n",
       "    }\n",
       "\n",
       "    .dataframe thead th {\n",
       "        text-align: right;\n",
       "    }\n",
       "</style>\n",
       "<table border=\"1\" class=\"dataframe\">\n",
       "  <thead>\n",
       "    <tr style=\"text-align: right;\">\n",
       "      <th></th>\n",
       "      <th>rownumber</th>\n",
       "      <th>customerid</th>\n",
       "      <th>surname</th>\n",
       "      <th>creditscore</th>\n",
       "      <th>geography</th>\n",
       "      <th>gender</th>\n",
       "      <th>age</th>\n",
       "      <th>tenure</th>\n",
       "      <th>balance</th>\n",
       "      <th>numofproducts</th>\n",
       "      <th>hascrcard</th>\n",
       "      <th>isactivemember</th>\n",
       "      <th>estimatedsalary</th>\n",
       "      <th>exited</th>\n",
       "    </tr>\n",
       "  </thead>\n",
       "  <tbody>\n",
       "    <tr>\n",
       "      <th>0</th>\n",
       "      <td>1</td>\n",
       "      <td>15634602</td>\n",
       "      <td>hargrave</td>\n",
       "      <td>619</td>\n",
       "      <td>france</td>\n",
       "      <td>female</td>\n",
       "      <td>42</td>\n",
       "      <td>2.0</td>\n",
       "      <td>0.00</td>\n",
       "      <td>1</td>\n",
       "      <td>1</td>\n",
       "      <td>1</td>\n",
       "      <td>101348.88</td>\n",
       "      <td>1</td>\n",
       "    </tr>\n",
       "    <tr>\n",
       "      <th>1</th>\n",
       "      <td>2</td>\n",
       "      <td>15647311</td>\n",
       "      <td>hill</td>\n",
       "      <td>608</td>\n",
       "      <td>spain</td>\n",
       "      <td>female</td>\n",
       "      <td>41</td>\n",
       "      <td>1.0</td>\n",
       "      <td>83807.86</td>\n",
       "      <td>1</td>\n",
       "      <td>0</td>\n",
       "      <td>1</td>\n",
       "      <td>112542.58</td>\n",
       "      <td>0</td>\n",
       "    </tr>\n",
       "    <tr>\n",
       "      <th>2</th>\n",
       "      <td>3</td>\n",
       "      <td>15619304</td>\n",
       "      <td>onio</td>\n",
       "      <td>502</td>\n",
       "      <td>france</td>\n",
       "      <td>female</td>\n",
       "      <td>42</td>\n",
       "      <td>8.0</td>\n",
       "      <td>159660.80</td>\n",
       "      <td>3</td>\n",
       "      <td>1</td>\n",
       "      <td>0</td>\n",
       "      <td>113931.57</td>\n",
       "      <td>1</td>\n",
       "    </tr>\n",
       "    <tr>\n",
       "      <th>3</th>\n",
       "      <td>4</td>\n",
       "      <td>15701354</td>\n",
       "      <td>boni</td>\n",
       "      <td>699</td>\n",
       "      <td>france</td>\n",
       "      <td>female</td>\n",
       "      <td>39</td>\n",
       "      <td>1.0</td>\n",
       "      <td>0.00</td>\n",
       "      <td>2</td>\n",
       "      <td>0</td>\n",
       "      <td>0</td>\n",
       "      <td>93826.63</td>\n",
       "      <td>0</td>\n",
       "    </tr>\n",
       "    <tr>\n",
       "      <th>4</th>\n",
       "      <td>5</td>\n",
       "      <td>15737888</td>\n",
       "      <td>mitchell</td>\n",
       "      <td>850</td>\n",
       "      <td>spain</td>\n",
       "      <td>female</td>\n",
       "      <td>43</td>\n",
       "      <td>2.0</td>\n",
       "      <td>125510.82</td>\n",
       "      <td>1</td>\n",
       "      <td>1</td>\n",
       "      <td>1</td>\n",
       "      <td>79084.10</td>\n",
       "      <td>0</td>\n",
       "    </tr>\n",
       "  </tbody>\n",
       "</table>\n",
       "</div>"
      ],
      "text/plain": [
       "   rownumber  customerid   surname  creditscore geography  gender  age  \\\n",
       "0          1    15634602  hargrave          619    france  female   42   \n",
       "1          2    15647311      hill          608     spain  female   41   \n",
       "2          3    15619304      onio          502    france  female   42   \n",
       "3          4    15701354      boni          699    france  female   39   \n",
       "4          5    15737888  mitchell          850     spain  female   43   \n",
       "\n",
       "   tenure    balance  numofproducts  hascrcard  isactivemember  \\\n",
       "0     2.0       0.00              1          1               1   \n",
       "1     1.0   83807.86              1          0               1   \n",
       "2     8.0  159660.80              3          1               0   \n",
       "3     1.0       0.00              2          0               0   \n",
       "4     2.0  125510.82              1          1               1   \n",
       "\n",
       "   estimatedsalary  exited  \n",
       "0        101348.88       1  \n",
       "1        112542.58       0  \n",
       "2        113931.57       1  \n",
       "3         93826.63       0  \n",
       "4         79084.10       0  "
      ]
     },
     "execution_count": 7,
     "metadata": {},
     "output_type": "execute_result"
    }
   ],
   "source": [
    "data.head()"
   ]
  },
  {
   "cell_type": "markdown",
   "id": "bfbee47f",
   "metadata": {},
   "source": [
    "Excellent!\n",
    "\n",
    "The whole data frame is lowercased!\n",
    "\n",
    "The dataset contains the feature **'rownumber'** - this is a sort of index column, which doesn't contribute any information about the target variable. Also, there is the **customerid** feature which is also a kind of index column for the customers. The **surname** column also doesn't contain any information that can help our model - it's not really a feature, it's also an index in the 'real-world' to distinguish people one from each other.  So, let's remove them all because it's not necessary for our model building."
   ]
  },
  {
   "cell_type": "code",
   "execution_count": 8,
   "id": "af7b031d",
   "metadata": {},
   "outputs": [],
   "source": [
    "data.drop(['rownumber', 'customerid', 'surname'], axis = 1, inplace = True)"
   ]
  },
  {
   "cell_type": "code",
   "execution_count": 9,
   "id": "db08087b",
   "metadata": {},
   "outputs": [
    {
     "data": {
      "text/html": [
       "<div>\n",
       "<style scoped>\n",
       "    .dataframe tbody tr th:only-of-type {\n",
       "        vertical-align: middle;\n",
       "    }\n",
       "\n",
       "    .dataframe tbody tr th {\n",
       "        vertical-align: top;\n",
       "    }\n",
       "\n",
       "    .dataframe thead th {\n",
       "        text-align: right;\n",
       "    }\n",
       "</style>\n",
       "<table border=\"1\" class=\"dataframe\">\n",
       "  <thead>\n",
       "    <tr style=\"text-align: right;\">\n",
       "      <th></th>\n",
       "      <th>creditscore</th>\n",
       "      <th>geography</th>\n",
       "      <th>gender</th>\n",
       "      <th>age</th>\n",
       "      <th>tenure</th>\n",
       "      <th>balance</th>\n",
       "      <th>numofproducts</th>\n",
       "      <th>hascrcard</th>\n",
       "      <th>isactivemember</th>\n",
       "      <th>estimatedsalary</th>\n",
       "      <th>exited</th>\n",
       "    </tr>\n",
       "  </thead>\n",
       "  <tbody>\n",
       "    <tr>\n",
       "      <th>0</th>\n",
       "      <td>619</td>\n",
       "      <td>france</td>\n",
       "      <td>female</td>\n",
       "      <td>42</td>\n",
       "      <td>2.0</td>\n",
       "      <td>0.00</td>\n",
       "      <td>1</td>\n",
       "      <td>1</td>\n",
       "      <td>1</td>\n",
       "      <td>101348.88</td>\n",
       "      <td>1</td>\n",
       "    </tr>\n",
       "    <tr>\n",
       "      <th>1</th>\n",
       "      <td>608</td>\n",
       "      <td>spain</td>\n",
       "      <td>female</td>\n",
       "      <td>41</td>\n",
       "      <td>1.0</td>\n",
       "      <td>83807.86</td>\n",
       "      <td>1</td>\n",
       "      <td>0</td>\n",
       "      <td>1</td>\n",
       "      <td>112542.58</td>\n",
       "      <td>0</td>\n",
       "    </tr>\n",
       "    <tr>\n",
       "      <th>2</th>\n",
       "      <td>502</td>\n",
       "      <td>france</td>\n",
       "      <td>female</td>\n",
       "      <td>42</td>\n",
       "      <td>8.0</td>\n",
       "      <td>159660.80</td>\n",
       "      <td>3</td>\n",
       "      <td>1</td>\n",
       "      <td>0</td>\n",
       "      <td>113931.57</td>\n",
       "      <td>1</td>\n",
       "    </tr>\n",
       "    <tr>\n",
       "      <th>3</th>\n",
       "      <td>699</td>\n",
       "      <td>france</td>\n",
       "      <td>female</td>\n",
       "      <td>39</td>\n",
       "      <td>1.0</td>\n",
       "      <td>0.00</td>\n",
       "      <td>2</td>\n",
       "      <td>0</td>\n",
       "      <td>0</td>\n",
       "      <td>93826.63</td>\n",
       "      <td>0</td>\n",
       "    </tr>\n",
       "    <tr>\n",
       "      <th>4</th>\n",
       "      <td>850</td>\n",
       "      <td>spain</td>\n",
       "      <td>female</td>\n",
       "      <td>43</td>\n",
       "      <td>2.0</td>\n",
       "      <td>125510.82</td>\n",
       "      <td>1</td>\n",
       "      <td>1</td>\n",
       "      <td>1</td>\n",
       "      <td>79084.10</td>\n",
       "      <td>0</td>\n",
       "    </tr>\n",
       "  </tbody>\n",
       "</table>\n",
       "</div>"
      ],
      "text/plain": [
       "   creditscore geography  gender  age  tenure    balance  numofproducts  \\\n",
       "0          619    france  female   42     2.0       0.00              1   \n",
       "1          608     spain  female   41     1.0   83807.86              1   \n",
       "2          502    france  female   42     8.0  159660.80              3   \n",
       "3          699    france  female   39     1.0       0.00              2   \n",
       "4          850     spain  female   43     2.0  125510.82              1   \n",
       "\n",
       "   hascrcard  isactivemember  estimatedsalary  exited  \n",
       "0          1               1        101348.88       1  \n",
       "1          0               1        112542.58       0  \n",
       "2          1               0        113931.57       1  \n",
       "3          0               0         93826.63       0  \n",
       "4          1               1         79084.10       0  "
      ]
     },
     "execution_count": 9,
     "metadata": {},
     "output_type": "execute_result"
    }
   ],
   "source": [
    "data.head()"
   ]
  },
  {
   "cell_type": "markdown",
   "id": "aa1219ce",
   "metadata": {},
   "source": [
    "Sweet!\n",
    "\n",
    "Let's move forward."
   ]
  },
  {
   "cell_type": "markdown",
   "id": "bbade268",
   "metadata": {},
   "source": [
    "Let's check if there are missing values in the data set."
   ]
  },
  {
   "cell_type": "markdown",
   "id": "7671b833",
   "metadata": {},
   "source": [
    "**Missing values**"
   ]
  },
  {
   "cell_type": "code",
   "execution_count": 10,
   "id": "0ed5532e",
   "metadata": {},
   "outputs": [
    {
     "data": {
      "text/html": [
       "<style type=\"text/css\">\n",
       "</style>\n",
       "<table id=\"T_d0d21_\">\n",
       "  <thead>\n",
       "    <tr>\n",
       "      <th class=\"blank level0\" >&nbsp;</th>\n",
       "      <th class=\"col_heading level0 col0\" >missing</th>\n",
       "      <th class=\"col_heading level0 col1\" >total</th>\n",
       "      <th class=\"col_heading level0 col2\" >percent</th>\n",
       "    </tr>\n",
       "  </thead>\n",
       "  <tbody>\n",
       "    <tr>\n",
       "      <th id=\"T_d0d21_level0_row0\" class=\"row_heading level0 row0\" >tenure</th>\n",
       "      <td id=\"T_d0d21_row0_col0\" class=\"data row0 col0\" >909</td>\n",
       "      <td id=\"T_d0d21_row0_col1\" class=\"data row0 col1\" >10,000</td>\n",
       "      <td id=\"T_d0d21_row0_col2\" class=\"data row0 col2\" >9.09%</td>\n",
       "    </tr>\n",
       "    <tr>\n",
       "      <th id=\"T_d0d21_level0_row1\" class=\"row_heading level0 row1\" >creditscore</th>\n",
       "      <td id=\"T_d0d21_row1_col0\" class=\"data row1 col0\" >0</td>\n",
       "      <td id=\"T_d0d21_row1_col1\" class=\"data row1 col1\" >10,000</td>\n",
       "      <td id=\"T_d0d21_row1_col2\" class=\"data row1 col2\" >0.00%</td>\n",
       "    </tr>\n",
       "    <tr>\n",
       "      <th id=\"T_d0d21_level0_row2\" class=\"row_heading level0 row2\" >geography</th>\n",
       "      <td id=\"T_d0d21_row2_col0\" class=\"data row2 col0\" >0</td>\n",
       "      <td id=\"T_d0d21_row2_col1\" class=\"data row2 col1\" >10,000</td>\n",
       "      <td id=\"T_d0d21_row2_col2\" class=\"data row2 col2\" >0.00%</td>\n",
       "    </tr>\n",
       "    <tr>\n",
       "      <th id=\"T_d0d21_level0_row3\" class=\"row_heading level0 row3\" >gender</th>\n",
       "      <td id=\"T_d0d21_row3_col0\" class=\"data row3 col0\" >0</td>\n",
       "      <td id=\"T_d0d21_row3_col1\" class=\"data row3 col1\" >10,000</td>\n",
       "      <td id=\"T_d0d21_row3_col2\" class=\"data row3 col2\" >0.00%</td>\n",
       "    </tr>\n",
       "    <tr>\n",
       "      <th id=\"T_d0d21_level0_row4\" class=\"row_heading level0 row4\" >age</th>\n",
       "      <td id=\"T_d0d21_row4_col0\" class=\"data row4 col0\" >0</td>\n",
       "      <td id=\"T_d0d21_row4_col1\" class=\"data row4 col1\" >10,000</td>\n",
       "      <td id=\"T_d0d21_row4_col2\" class=\"data row4 col2\" >0.00%</td>\n",
       "    </tr>\n",
       "    <tr>\n",
       "      <th id=\"T_d0d21_level0_row5\" class=\"row_heading level0 row5\" >balance</th>\n",
       "      <td id=\"T_d0d21_row5_col0\" class=\"data row5 col0\" >0</td>\n",
       "      <td id=\"T_d0d21_row5_col1\" class=\"data row5 col1\" >10,000</td>\n",
       "      <td id=\"T_d0d21_row5_col2\" class=\"data row5 col2\" >0.00%</td>\n",
       "    </tr>\n",
       "    <tr>\n",
       "      <th id=\"T_d0d21_level0_row6\" class=\"row_heading level0 row6\" >numofproducts</th>\n",
       "      <td id=\"T_d0d21_row6_col0\" class=\"data row6 col0\" >0</td>\n",
       "      <td id=\"T_d0d21_row6_col1\" class=\"data row6 col1\" >10,000</td>\n",
       "      <td id=\"T_d0d21_row6_col2\" class=\"data row6 col2\" >0.00%</td>\n",
       "    </tr>\n",
       "    <tr>\n",
       "      <th id=\"T_d0d21_level0_row7\" class=\"row_heading level0 row7\" >hascrcard</th>\n",
       "      <td id=\"T_d0d21_row7_col0\" class=\"data row7 col0\" >0</td>\n",
       "      <td id=\"T_d0d21_row7_col1\" class=\"data row7 col1\" >10,000</td>\n",
       "      <td id=\"T_d0d21_row7_col2\" class=\"data row7 col2\" >0.00%</td>\n",
       "    </tr>\n",
       "    <tr>\n",
       "      <th id=\"T_d0d21_level0_row8\" class=\"row_heading level0 row8\" >isactivemember</th>\n",
       "      <td id=\"T_d0d21_row8_col0\" class=\"data row8 col0\" >0</td>\n",
       "      <td id=\"T_d0d21_row8_col1\" class=\"data row8 col1\" >10,000</td>\n",
       "      <td id=\"T_d0d21_row8_col2\" class=\"data row8 col2\" >0.00%</td>\n",
       "    </tr>\n",
       "    <tr>\n",
       "      <th id=\"T_d0d21_level0_row9\" class=\"row_heading level0 row9\" >estimatedsalary</th>\n",
       "      <td id=\"T_d0d21_row9_col0\" class=\"data row9 col0\" >0</td>\n",
       "      <td id=\"T_d0d21_row9_col1\" class=\"data row9 col1\" >10,000</td>\n",
       "      <td id=\"T_d0d21_row9_col2\" class=\"data row9 col2\" >0.00%</td>\n",
       "    </tr>\n",
       "    <tr>\n",
       "      <th id=\"T_d0d21_level0_row10\" class=\"row_heading level0 row10\" >exited</th>\n",
       "      <td id=\"T_d0d21_row10_col0\" class=\"data row10 col0\" >0</td>\n",
       "      <td id=\"T_d0d21_row10_col1\" class=\"data row10 col1\" >10,000</td>\n",
       "      <td id=\"T_d0d21_row10_col2\" class=\"data row10 col2\" >0.00%</td>\n",
       "    </tr>\n",
       "  </tbody>\n",
       "</table>\n"
      ],
      "text/plain": [
       "<pandas.io.formats.style.Styler at 0x7fa0f98c6880>"
      ]
     },
     "execution_count": 10,
     "metadata": {},
     "output_type": "execute_result"
    }
   ],
   "source": [
    "data.stb.missing(style = True)"
   ]
  },
  {
   "cell_type": "markdown",
   "id": "c8beaa7a",
   "metadata": {},
   "source": [
    "We see that only one feature has missing values - the **'tenure'** feature. The missing values are only 9% from the whole dataset, which considers a small amount that can be safely removed. But let's just take a quick look at them."
   ]
  },
  {
   "cell_type": "code",
   "execution_count": 11,
   "id": "3aba119a",
   "metadata": {},
   "outputs": [],
   "source": [
    "tenure_nan = data[data['tenure'].isnull()]"
   ]
  },
  {
   "cell_type": "code",
   "execution_count": 12,
   "id": "43f8afd5",
   "metadata": {},
   "outputs": [
    {
     "data": {
      "text/html": [
       "<div>\n",
       "<style scoped>\n",
       "    .dataframe tbody tr th:only-of-type {\n",
       "        vertical-align: middle;\n",
       "    }\n",
       "\n",
       "    .dataframe tbody tr th {\n",
       "        vertical-align: top;\n",
       "    }\n",
       "\n",
       "    .dataframe thead th {\n",
       "        text-align: right;\n",
       "    }\n",
       "</style>\n",
       "<table border=\"1\" class=\"dataframe\">\n",
       "  <thead>\n",
       "    <tr style=\"text-align: right;\">\n",
       "      <th></th>\n",
       "      <th>creditscore</th>\n",
       "      <th>geography</th>\n",
       "      <th>gender</th>\n",
       "      <th>age</th>\n",
       "      <th>tenure</th>\n",
       "      <th>balance</th>\n",
       "      <th>numofproducts</th>\n",
       "      <th>hascrcard</th>\n",
       "      <th>isactivemember</th>\n",
       "      <th>estimatedsalary</th>\n",
       "      <th>exited</th>\n",
       "    </tr>\n",
       "  </thead>\n",
       "  <tbody>\n",
       "    <tr>\n",
       "      <th>30</th>\n",
       "      <td>591</td>\n",
       "      <td>spain</td>\n",
       "      <td>female</td>\n",
       "      <td>39</td>\n",
       "      <td>NaN</td>\n",
       "      <td>0.00</td>\n",
       "      <td>3</td>\n",
       "      <td>1</td>\n",
       "      <td>0</td>\n",
       "      <td>140469.38</td>\n",
       "      <td>1</td>\n",
       "    </tr>\n",
       "    <tr>\n",
       "      <th>48</th>\n",
       "      <td>550</td>\n",
       "      <td>germany</td>\n",
       "      <td>male</td>\n",
       "      <td>38</td>\n",
       "      <td>NaN</td>\n",
       "      <td>103391.38</td>\n",
       "      <td>1</td>\n",
       "      <td>0</td>\n",
       "      <td>1</td>\n",
       "      <td>90878.13</td>\n",
       "      <td>0</td>\n",
       "    </tr>\n",
       "    <tr>\n",
       "      <th>51</th>\n",
       "      <td>585</td>\n",
       "      <td>germany</td>\n",
       "      <td>male</td>\n",
       "      <td>36</td>\n",
       "      <td>NaN</td>\n",
       "      <td>146050.97</td>\n",
       "      <td>2</td>\n",
       "      <td>0</td>\n",
       "      <td>0</td>\n",
       "      <td>86424.57</td>\n",
       "      <td>0</td>\n",
       "    </tr>\n",
       "    <tr>\n",
       "      <th>53</th>\n",
       "      <td>655</td>\n",
       "      <td>germany</td>\n",
       "      <td>male</td>\n",
       "      <td>41</td>\n",
       "      <td>NaN</td>\n",
       "      <td>125561.97</td>\n",
       "      <td>1</td>\n",
       "      <td>0</td>\n",
       "      <td>0</td>\n",
       "      <td>164040.94</td>\n",
       "      <td>1</td>\n",
       "    </tr>\n",
       "    <tr>\n",
       "      <th>60</th>\n",
       "      <td>742</td>\n",
       "      <td>germany</td>\n",
       "      <td>male</td>\n",
       "      <td>35</td>\n",
       "      <td>NaN</td>\n",
       "      <td>136857.00</td>\n",
       "      <td>1</td>\n",
       "      <td>0</td>\n",
       "      <td>0</td>\n",
       "      <td>84509.57</td>\n",
       "      <td>0</td>\n",
       "    </tr>\n",
       "  </tbody>\n",
       "</table>\n",
       "</div>"
      ],
      "text/plain": [
       "    creditscore geography  gender  age  tenure    balance  numofproducts  \\\n",
       "30          591     spain  female   39     NaN       0.00              3   \n",
       "48          550   germany    male   38     NaN  103391.38              1   \n",
       "51          585   germany    male   36     NaN  146050.97              2   \n",
       "53          655   germany    male   41     NaN  125561.97              1   \n",
       "60          742   germany    male   35     NaN  136857.00              1   \n",
       "\n",
       "    hascrcard  isactivemember  estimatedsalary  exited  \n",
       "30          1               0        140469.38       1  \n",
       "48          0               1         90878.13       0  \n",
       "51          0               0         86424.57       0  \n",
       "53          0               0        164040.94       1  \n",
       "60          0               0         84509.57       0  "
      ]
     },
     "execution_count": 12,
     "metadata": {},
     "output_type": "execute_result"
    }
   ],
   "source": [
    "tenure_nan.head()"
   ]
  },
  {
   "cell_type": "code",
   "execution_count": 13,
   "id": "d1d6825d",
   "metadata": {},
   "outputs": [
    {
     "data": {
      "text/plain": [
       "france     464\n",
       "spain      229\n",
       "germany    216\n",
       "Name: geography, dtype: int64"
      ]
     },
     "execution_count": 13,
     "metadata": {},
     "output_type": "execute_result"
    }
   ],
   "source": [
    "tenure_nan['geography'].value_counts()"
   ]
  },
  {
   "cell_type": "code",
   "execution_count": 14,
   "id": "85b34406",
   "metadata": {},
   "outputs": [
    {
     "data": {
      "text/plain": [
       "male      483\n",
       "female    426\n",
       "Name: gender, dtype: int64"
      ]
     },
     "execution_count": 14,
     "metadata": {},
     "output_type": "execute_result"
    }
   ],
   "source": [
    "tenure_nan['gender'].value_counts()"
   ]
  },
  {
   "cell_type": "code",
   "execution_count": 15,
   "id": "d04b9c93",
   "metadata": {},
   "outputs": [
    {
     "data": {
      "image/png": "[encoded data removed]",
      "text/plain": [
       "<Figure size 1080x1080 with 9 Axes>"
      ]
     },
     "metadata": {
      "needs_background": "light"
     },
     "output_type": "display_data"
    }
   ],
   "source": [
    "tenure_nan.hist(edgecolor='black', linewidth=1.2, figsize=(15,15))\n",
    "plt.show()"
   ]
  },
  {
   "cell_type": "markdown",
   "id": "1ab651bd",
   "metadata": {},
   "source": [
    "After examining the relationship between the missing values in the **tenure** variable, we can say that is any connection between the missing values of the **tenure** variable to the other variables. \n",
    "As was mentioned above, due to the fact that the total percentage of the missing values in the **tenure** variable is less than 10%, we can safely remove them."
   ]
  },
  {
   "cell_type": "code",
   "execution_count": 16,
   "id": "5bbfb497",
   "metadata": {},
   "outputs": [],
   "source": [
    "data.dropna(subset=['tenure'], inplace = True)"
   ]
  },
  {
   "cell_type": "code",
   "execution_count": 17,
   "id": "4a0b7f81",
   "metadata": {},
   "outputs": [
    {
     "data": {
      "text/html": [
       "<style type=\"text/css\">\n",
       "</style>\n",
       "<table id=\"T_26d6e_\">\n",
       "  <thead>\n",
       "    <tr>\n",
       "      <th class=\"blank level0\" >&nbsp;</th>\n",
       "      <th class=\"col_heading level0 col0\" >missing</th>\n",
       "      <th class=\"col_heading level0 col1\" >total</th>\n",
       "      <th class=\"col_heading level0 col2\" >percent</th>\n",
       "    </tr>\n",
       "  </thead>\n",
       "  <tbody>\n",
       "    <tr>\n",
       "      <th id=\"T_26d6e_level0_row0\" class=\"row_heading level0 row0\" >creditscore</th>\n",
       "      <td id=\"T_26d6e_row0_col0\" class=\"data row0 col0\" >0</td>\n",
       "      <td id=\"T_26d6e_row0_col1\" class=\"data row0 col1\" >9,091</td>\n",
       "      <td id=\"T_26d6e_row0_col2\" class=\"data row0 col2\" >0.00%</td>\n",
       "    </tr>\n",
       "    <tr>\n",
       "      <th id=\"T_26d6e_level0_row1\" class=\"row_heading level0 row1\" >geography</th>\n",
       "      <td id=\"T_26d6e_row1_col0\" class=\"data row1 col0\" >0</td>\n",
       "      <td id=\"T_26d6e_row1_col1\" class=\"data row1 col1\" >9,091</td>\n",
       "      <td id=\"T_26d6e_row1_col2\" class=\"data row1 col2\" >0.00%</td>\n",
       "    </tr>\n",
       "    <tr>\n",
       "      <th id=\"T_26d6e_level0_row2\" class=\"row_heading level0 row2\" >gender</th>\n",
       "      <td id=\"T_26d6e_row2_col0\" class=\"data row2 col0\" >0</td>\n",
       "      <td id=\"T_26d6e_row2_col1\" class=\"data row2 col1\" >9,091</td>\n",
       "      <td id=\"T_26d6e_row2_col2\" class=\"data row2 col2\" >0.00%</td>\n",
       "    </tr>\n",
       "    <tr>\n",
       "      <th id=\"T_26d6e_level0_row3\" class=\"row_heading level0 row3\" >age</th>\n",
       "      <td id=\"T_26d6e_row3_col0\" class=\"data row3 col0\" >0</td>\n",
       "      <td id=\"T_26d6e_row3_col1\" class=\"data row3 col1\" >9,091</td>\n",
       "      <td id=\"T_26d6e_row3_col2\" class=\"data row3 col2\" >0.00%</td>\n",
       "    </tr>\n",
       "    <tr>\n",
       "      <th id=\"T_26d6e_level0_row4\" class=\"row_heading level0 row4\" >tenure</th>\n",
       "      <td id=\"T_26d6e_row4_col0\" class=\"data row4 col0\" >0</td>\n",
       "      <td id=\"T_26d6e_row4_col1\" class=\"data row4 col1\" >9,091</td>\n",
       "      <td id=\"T_26d6e_row4_col2\" class=\"data row4 col2\" >0.00%</td>\n",
       "    </tr>\n",
       "    <tr>\n",
       "      <th id=\"T_26d6e_level0_row5\" class=\"row_heading level0 row5\" >balance</th>\n",
       "      <td id=\"T_26d6e_row5_col0\" class=\"data row5 col0\" >0</td>\n",
       "      <td id=\"T_26d6e_row5_col1\" class=\"data row5 col1\" >9,091</td>\n",
       "      <td id=\"T_26d6e_row5_col2\" class=\"data row5 col2\" >0.00%</td>\n",
       "    </tr>\n",
       "    <tr>\n",
       "      <th id=\"T_26d6e_level0_row6\" class=\"row_heading level0 row6\" >numofproducts</th>\n",
       "      <td id=\"T_26d6e_row6_col0\" class=\"data row6 col0\" >0</td>\n",
       "      <td id=\"T_26d6e_row6_col1\" class=\"data row6 col1\" >9,091</td>\n",
       "      <td id=\"T_26d6e_row6_col2\" class=\"data row6 col2\" >0.00%</td>\n",
       "    </tr>\n",
       "    <tr>\n",
       "      <th id=\"T_26d6e_level0_row7\" class=\"row_heading level0 row7\" >hascrcard</th>\n",
       "      <td id=\"T_26d6e_row7_col0\" class=\"data row7 col0\" >0</td>\n",
       "      <td id=\"T_26d6e_row7_col1\" class=\"data row7 col1\" >9,091</td>\n",
       "      <td id=\"T_26d6e_row7_col2\" class=\"data row7 col2\" >0.00%</td>\n",
       "    </tr>\n",
       "    <tr>\n",
       "      <th id=\"T_26d6e_level0_row8\" class=\"row_heading level0 row8\" >isactivemember</th>\n",
       "      <td id=\"T_26d6e_row8_col0\" class=\"data row8 col0\" >0</td>\n",
       "      <td id=\"T_26d6e_row8_col1\" class=\"data row8 col1\" >9,091</td>\n",
       "      <td id=\"T_26d6e_row8_col2\" class=\"data row8 col2\" >0.00%</td>\n",
       "    </tr>\n",
       "    <tr>\n",
       "      <th id=\"T_26d6e_level0_row9\" class=\"row_heading level0 row9\" >estimatedsalary</th>\n",
       "      <td id=\"T_26d6e_row9_col0\" class=\"data row9 col0\" >0</td>\n",
       "      <td id=\"T_26d6e_row9_col1\" class=\"data row9 col1\" >9,091</td>\n",
       "      <td id=\"T_26d6e_row9_col2\" class=\"data row9 col2\" >0.00%</td>\n",
       "    </tr>\n",
       "    <tr>\n",
       "      <th id=\"T_26d6e_level0_row10\" class=\"row_heading level0 row10\" >exited</th>\n",
       "      <td id=\"T_26d6e_row10_col0\" class=\"data row10 col0\" >0</td>\n",
       "      <td id=\"T_26d6e_row10_col1\" class=\"data row10 col1\" >9,091</td>\n",
       "      <td id=\"T_26d6e_row10_col2\" class=\"data row10 col2\" >0.00%</td>\n",
       "    </tr>\n",
       "  </tbody>\n",
       "</table>\n"
      ],
      "text/plain": [
       "<pandas.io.formats.style.Styler at 0x7fa0f89d5730>"
      ]
     },
     "execution_count": 17,
     "metadata": {},
     "output_type": "execute_result"
    }
   ],
   "source": [
    "data.stb.missing(style = True)"
   ]
  },
  {
   "cell_type": "markdown",
   "id": "57f64336",
   "metadata": {},
   "source": [
    "Great!\n",
    "\n",
    "No missing values in the dataset.\n",
    "\n",
    "Now let's check for duplicates."
   ]
  },
  {
   "cell_type": "markdown",
   "id": "9e052131",
   "metadata": {},
   "source": [
    "**Duplicates**"
   ]
  },
  {
   "cell_type": "code",
   "execution_count": 18,
   "id": "9f5df1b4",
   "metadata": {},
   "outputs": [
    {
     "data": {
      "text/plain": [
       "0"
      ]
     },
     "execution_count": 18,
     "metadata": {},
     "output_type": "execute_result"
    }
   ],
   "source": [
    "data.duplicated().sum()"
   ]
  },
  {
   "cell_type": "markdown",
   "id": "50b3523f",
   "metadata": {},
   "source": [
    "It's our lucky day! No duplicates:)\n",
    "\n",
    "So up to this point, we lowercased our dataset took care of the missing values and made sure that there we no duplicated values.\n",
    "\n",
    "Now let's do some investigation and perform Exploratory Data Analysis. 👩‍💻"
   ]
  },
  {
   "cell_type": "markdown",
   "id": "0fe97ccc",
   "metadata": {},
   "source": [
    "**Exploratory Data Analysis**"
   ]
  },
  {
   "cell_type": "markdown",
   "id": "000383f4",
   "metadata": {},
   "source": [
    "Let's look at the distirubtions for each numeric variable in the dataset."
   ]
  },
  {
   "cell_type": "code",
   "execution_count": 19,
   "id": "1f79d36d",
   "metadata": {},
   "outputs": [],
   "source": [
    "data_numeric = data[['creditscore', 'age', 'tenure', 'balance', 'estimatedsalary']]"
   ]
  },
  {
   "cell_type": "code",
   "execution_count": 20,
   "id": "9c37a6fb",
   "metadata": {},
   "outputs": [
    {
     "data": {
      "image/png": "[encoded data removed]",
      "text/plain": [
       "<Figure size 1080x1080 with 6 Axes>"
      ]
     },
     "metadata": {
      "needs_background": "light"
     },
     "output_type": "display_data"
    }
   ],
   "source": [
    "data_numeric.hist(edgecolor='black', linewidth=1.2, figsize=(15,15))\n",
    "plt.show()"
   ]
  },
  {
   "cell_type": "markdown",
   "id": "ae887dc8",
   "metadata": {},
   "source": [
    "So here we see:\n",
    "1. **credictscore** - has a relatively normal distribution. \n",
    "2. **age** - the age feature is a little bit skewed to the left.\n",
    "3. **tenure** - the feature is pretty much balanced - almost all the years have the same amount of appearance.\n",
    "4. **balance** - the balance feature is also has a relatively normal distribution, but with a lot of users with 0 money in their account - bummer :(\n",
    "5. **estimatedsalary** - it's similar in some way to the **tenure** feature. Here also, the feature is balanced, and the bank has the same amount of customers for all sizes salaries."
   ]
  },
  {
   "cell_type": "markdown",
   "id": "e765fdcd",
   "metadata": {},
   "source": [
    "Now let's explore each features separately with respect to the class it belongs to."
   ]
  },
  {
   "cell_type": "code",
   "execution_count": 21,
   "id": "b1edfeab",
   "metadata": {},
   "outputs": [
    {
     "data": {
      "image/png": "[encoded data removed]",
      "text/plain": [
       "<Figure size 1080x720 with 4 Axes>"
      ]
     },
     "metadata": {
      "needs_background": "light"
     },
     "output_type": "display_data"
    }
   ],
   "source": [
    "plt.figure(figsize=(15,10))\n",
    "plt.subplot(2,2,1)\n",
    "sns.violinplot(x='exited', y = 'creditscore', data=data)\n",
    "plt.subplot(2,2,2)\n",
    "sns.violinplot(x='exited', y = 'geography', data=data)\n",
    "\n",
    "plt.subplot(2,2,3)\n",
    "sns.violinplot(x='exited', y = 'gender', data=data)\n",
    "plt.subplot(2,2,4)\n",
    "sns.violinplot(x='exited', y = 'age', data=data);"
   ]
  },
  {
   "cell_type": "markdown",
   "id": "5b14f547",
   "metadata": {},
   "source": [
    "The violineplot show us that we cant tell that there are some features that influence more, thus are more important, than others on the target variable.\n",
    "Let's investigate more features."
   ]
  },
  {
   "cell_type": "code",
   "execution_count": 22,
   "id": "49841b85",
   "metadata": {},
   "outputs": [
    {
     "data": {
      "image/png": "[encoded data removed]",
      "text/plain": [
       "<Figure size 1080x720 with 4 Axes>"
      ]
     },
     "metadata": {
      "needs_background": "light"
     },
     "output_type": "display_data"
    }
   ],
   "source": [
    "plt.figure(figsize=(15,10))\n",
    "plt.subplot(2,2,1)\n",
    "sns.violinplot(x='exited', y = 'tenure', data=data)\n",
    "plt.subplot(2,2,2)\n",
    "sns.violinplot(x='exited', y = 'balance', data=data)\n",
    "\n",
    "plt.subplot(2,2,3)\n",
    "sns.violinplot(x='exited', y = 'numofproducts', data=data)\n",
    "plt.subplot(2,2,4)\n",
    "sns.violinplot(x='exited', y = 'hascrcard', data=data);"
   ]
  },
  {
   "cell_type": "markdown",
   "id": "14bf2f25",
   "metadata": {},
   "source": [
    "Here also, the violineplot shows us that all the features are the same in their influence level on the target variable. Maybe **numofproducts** has more influence. Let's check the remaining 2 features."
   ]
  },
  {
   "cell_type": "code",
   "execution_count": 23,
   "id": "c4945c97",
   "metadata": {},
   "outputs": [
    {
     "data": {
      "image/png": "[encoded data removed]",
      "text/plain": [
       "<Figure size 1080x720 with 2 Axes>"
      ]
     },
     "metadata": {
      "needs_background": "light"
     },
     "output_type": "display_data"
    }
   ],
   "source": [
    "plt.figure(figsize=(15,10))\n",
    "plt.subplot(2,2,1)\n",
    "sns.violinplot(x='exited', y = 'isactivemember', data=data)\n",
    "plt.subplot(2,2,2)\n",
    "sns.violinplot(x='exited', y = 'estimatedsalary', data=data)\n",
    "plt.show()"
   ]
  },
  {
   "cell_type": "markdown",
   "id": "43259aaa",
   "metadata": {},
   "source": [
    "The same story here, the features have the same influence on the target variable."
   ]
  },
  {
   "cell_type": "markdown",
   "id": "9291e121",
   "metadata": {},
   "source": [
    "**Let's check how our features correlate with each other**"
   ]
  },
  {
   "cell_type": "code",
   "execution_count": 24,
   "id": "71622295",
   "metadata": {},
   "outputs": [
    {
     "data": {
      "image/png": "[encoded data removed]",
      "text/plain": [
       "<Figure size 1080x360 with 2 Axes>"
      ]
     },
     "metadata": {
      "needs_background": "light"
     },
     "output_type": "display_data"
    }
   ],
   "source": [
    "plt.figure(figsize=(15,5))\n",
    "ax = sns.heatmap(data.corr(), annot=True, cmap='cividis')\n",
    "\n",
    "bottom, top = ax.get_ylim()\n",
    "ax.set_ylim(bottom + 0.5, top - 0.5);\n",
    "plt.yticks(rotation=0);"
   ]
  },
  {
   "cell_type": "markdown",
   "id": "54ed4655",
   "metadata": {},
   "source": [
    "We see above that almost all of the cells have a blue color and some cells in grey. By the legend on the right, that means that the correlation is very weak between the features. The outcomes match the results above from the violineplot, so it didn't surprise us.\n",
    "\n",
    "Let's move on to the next step.🙌"
   ]
  },
  {
   "cell_type": "markdown",
   "id": "06fefd8b",
   "metadata": {},
   "source": [
    "### Step 2: Examine the balance of classes. Train the model without taking into account the imbalance. Briefly describe your findings"
   ]
  },
  {
   "cell_type": "markdown",
   "id": "8c4738a0",
   "metadata": {},
   "source": [
    "Let's examine the balance of the classes in each feature. "
   ]
  },
  {
   "cell_type": "code",
   "execution_count": 25,
   "id": "2d43dc27",
   "metadata": {},
   "outputs": [
    {
     "data": {
      "text/html": [
       "<div>\n",
       "<style scoped>\n",
       "    .dataframe tbody tr th:only-of-type {\n",
       "        vertical-align: middle;\n",
       "    }\n",
       "\n",
       "    .dataframe tbody tr th {\n",
       "        vertical-align: top;\n",
       "    }\n",
       "\n",
       "    .dataframe thead th {\n",
       "        text-align: right;\n",
       "    }\n",
       "</style>\n",
       "<table border=\"1\" class=\"dataframe\">\n",
       "  <thead>\n",
       "    <tr style=\"text-align: right;\">\n",
       "      <th></th>\n",
       "      <th>creditscore</th>\n",
       "      <th>geography</th>\n",
       "      <th>gender</th>\n",
       "      <th>age</th>\n",
       "      <th>tenure</th>\n",
       "      <th>balance</th>\n",
       "      <th>numofproducts</th>\n",
       "      <th>hascrcard</th>\n",
       "      <th>isactivemember</th>\n",
       "      <th>estimatedsalary</th>\n",
       "      <th>exited</th>\n",
       "    </tr>\n",
       "  </thead>\n",
       "  <tbody>\n",
       "    <tr>\n",
       "      <th>0</th>\n",
       "      <td>619</td>\n",
       "      <td>france</td>\n",
       "      <td>female</td>\n",
       "      <td>42</td>\n",
       "      <td>2.0</td>\n",
       "      <td>0.00</td>\n",
       "      <td>1</td>\n",
       "      <td>1</td>\n",
       "      <td>1</td>\n",
       "      <td>101348.88</td>\n",
       "      <td>1</td>\n",
       "    </tr>\n",
       "    <tr>\n",
       "      <th>1</th>\n",
       "      <td>608</td>\n",
       "      <td>spain</td>\n",
       "      <td>female</td>\n",
       "      <td>41</td>\n",
       "      <td>1.0</td>\n",
       "      <td>83807.86</td>\n",
       "      <td>1</td>\n",
       "      <td>0</td>\n",
       "      <td>1</td>\n",
       "      <td>112542.58</td>\n",
       "      <td>0</td>\n",
       "    </tr>\n",
       "  </tbody>\n",
       "</table>\n",
       "</div>"
      ],
      "text/plain": [
       "   creditscore geography  gender  age  tenure   balance  numofproducts  \\\n",
       "0          619    france  female   42     2.0      0.00              1   \n",
       "1          608     spain  female   41     1.0  83807.86              1   \n",
       "\n",
       "   hascrcard  isactivemember  estimatedsalary  exited  \n",
       "0          1               1        101348.88       1  \n",
       "1          0               1        112542.58       0  "
      ]
     },
     "execution_count": 25,
     "metadata": {},
     "output_type": "execute_result"
    }
   ],
   "source": [
    "data.head(2)"
   ]
  },
  {
   "cell_type": "markdown",
   "id": "7717f215",
   "metadata": {},
   "source": [
    "**geography**"
   ]
  },
  {
   "cell_type": "code",
   "execution_count": 26,
   "id": "fcef7cc6",
   "metadata": {},
   "outputs": [
    {
     "data": {
      "text/plain": [
       "france     0.500495\n",
       "germany    0.252227\n",
       "spain      0.247278\n",
       "Name: geography, dtype: float64"
      ]
     },
     "execution_count": 26,
     "metadata": {},
     "output_type": "execute_result"
    }
   ],
   "source": [
    "data.geography.value_counts()/len(data)"
   ]
  },
  {
   "cell_type": "markdown",
   "id": "07efe6e7",
   "metadata": {},
   "source": [
    "The geography feature has imbalanced data. It has 2 times more observations of  France than Germany or Spain. Although Germany and Spain are balanced - they have the same amount of observations. "
   ]
  },
  {
   "cell_type": "markdown",
   "id": "06b6246d",
   "metadata": {},
   "source": [
    "**gender**"
   ]
  },
  {
   "cell_type": "code",
   "execution_count": 27,
   "id": "35e8755e",
   "metadata": {},
   "outputs": [
    {
     "data": {
      "text/plain": [
       "male      0.547135\n",
       "female    0.452865\n",
       "Name: gender, dtype: float64"
      ]
     },
     "execution_count": 27,
     "metadata": {},
     "output_type": "execute_result"
    }
   ],
   "source": [
    "data.gender.value_counts()/len(data)"
   ]
  },
  {
   "cell_type": "markdown",
   "id": "e24b18ef",
   "metadata": {},
   "source": [
    "We have more males than females (a world with a smaller amount of women is a sad world!🤭), about 10% more. It's not a very large difference but also not a small one. "
   ]
  },
  {
   "cell_type": "markdown",
   "id": "9468653d",
   "metadata": {},
   "source": [
    "**hascrcard**"
   ]
  },
  {
   "cell_type": "code",
   "execution_count": 28,
   "id": "9ea90750",
   "metadata": {},
   "outputs": [
    {
     "data": {
      "text/plain": [
       "1    0.704983\n",
       "0    0.295017\n",
       "Name: hascrcard, dtype: float64"
      ]
     },
     "execution_count": 28,
     "metadata": {},
     "output_type": "execute_result"
    }
   ],
   "source": [
    "data.hascrcard.value_counts()/len(data)"
   ]
  },
  {
   "cell_type": "markdown",
   "id": "7cf2d06b",
   "metadata": {},
   "source": [
    "The data contains 2.3 more people with a credit card than customers without a credit card. It's a big difference and significant imbalance of the classes. "
   ]
  },
  {
   "cell_type": "markdown",
   "id": "9a118b8c",
   "metadata": {},
   "source": [
    "**isactivemember**"
   ]
  },
  {
   "cell_type": "code",
   "execution_count": 29,
   "id": "b987240f",
   "metadata": {},
   "outputs": [
    {
     "data": {
      "text/plain": [
       "1    0.515565\n",
       "0    0.484435\n",
       "Name: isactivemember, dtype: float64"
      ]
     },
     "execution_count": 29,
     "metadata": {},
     "output_type": "execute_result"
    }
   ],
   "source": [
    "data.isactivemember.value_counts()/len(data)"
   ]
  },
  {
   "cell_type": "markdown",
   "id": "47d62ca7",
   "metadata": {},
   "source": [
    "Yay!\n",
    "\n",
    "At least one feature is balanced😄. The data set contains an almost equal amount of active and none active users."
   ]
  },
  {
   "cell_type": "markdown",
   "id": "c59b8883",
   "metadata": {},
   "source": [
    "**exited**"
   ]
  },
  {
   "cell_type": "code",
   "execution_count": 30,
   "id": "6f56b563",
   "metadata": {},
   "outputs": [
    {
     "data": {
      "text/plain": [
       "0    0.796062\n",
       "1    0.203938\n",
       "Name: exited, dtype: float64"
      ]
     },
     "execution_count": 30,
     "metadata": {},
     "output_type": "execute_result"
    }
   ],
   "source": [
    "data.exited.value_counts()/len(data)"
   ]
  },
  {
   "cell_type": "markdown",
   "id": "74ccf91a",
   "metadata": {},
   "source": [
    "The target column has a large imbalance. The data contains 4 times fewer customers that left the bank than customers who stayed in the bank - this is good! We still have faith, most of the customers stayed.\n",
    "\n",
    "Technically we need to normalize the numeric features and make class weight adjustments. But we were asked not to, so let's continue!💪"
   ]
  },
  {
   "cell_type": "markdown",
   "id": "c08fb9ea",
   "metadata": {},
   "source": [
    "**Encoding the object types features** "
   ]
  },
  {
   "cell_type": "code",
   "execution_count": 31,
   "id": "88a5cd56",
   "metadata": {},
   "outputs": [],
   "source": [
    "one_hot = pd.get_dummies(data[['geography', 'gender']], drop_first=True)\n",
    "data = data.join(one_hot).drop(['geography', 'gender'], axis=1)"
   ]
  },
  {
   "cell_type": "code",
   "execution_count": 32,
   "id": "5ef9bf95",
   "metadata": {},
   "outputs": [
    {
     "data": {
      "text/html": [
       "<div>\n",
       "<style scoped>\n",
       "    .dataframe tbody tr th:only-of-type {\n",
       "        vertical-align: middle;\n",
       "    }\n",
       "\n",
       "    .dataframe tbody tr th {\n",
       "        vertical-align: top;\n",
       "    }\n",
       "\n",
       "    .dataframe thead th {\n",
       "        text-align: right;\n",
       "    }\n",
       "</style>\n",
       "<table border=\"1\" class=\"dataframe\">\n",
       "  <thead>\n",
       "    <tr style=\"text-align: right;\">\n",
       "      <th></th>\n",
       "      <th>creditscore</th>\n",
       "      <th>age</th>\n",
       "      <th>tenure</th>\n",
       "      <th>balance</th>\n",
       "      <th>numofproducts</th>\n",
       "      <th>hascrcard</th>\n",
       "      <th>isactivemember</th>\n",
       "      <th>estimatedsalary</th>\n",
       "      <th>exited</th>\n",
       "      <th>geography_germany</th>\n",
       "      <th>geography_spain</th>\n",
       "      <th>gender_male</th>\n",
       "    </tr>\n",
       "  </thead>\n",
       "  <tbody>\n",
       "    <tr>\n",
       "      <th>0</th>\n",
       "      <td>619</td>\n",
       "      <td>42</td>\n",
       "      <td>2.0</td>\n",
       "      <td>0.00</td>\n",
       "      <td>1</td>\n",
       "      <td>1</td>\n",
       "      <td>1</td>\n",
       "      <td>101348.88</td>\n",
       "      <td>1</td>\n",
       "      <td>0</td>\n",
       "      <td>0</td>\n",
       "      <td>0</td>\n",
       "    </tr>\n",
       "    <tr>\n",
       "      <th>1</th>\n",
       "      <td>608</td>\n",
       "      <td>41</td>\n",
       "      <td>1.0</td>\n",
       "      <td>83807.86</td>\n",
       "      <td>1</td>\n",
       "      <td>0</td>\n",
       "      <td>1</td>\n",
       "      <td>112542.58</td>\n",
       "      <td>0</td>\n",
       "      <td>0</td>\n",
       "      <td>1</td>\n",
       "      <td>0</td>\n",
       "    </tr>\n",
       "    <tr>\n",
       "      <th>2</th>\n",
       "      <td>502</td>\n",
       "      <td>42</td>\n",
       "      <td>8.0</td>\n",
       "      <td>159660.80</td>\n",
       "      <td>3</td>\n",
       "      <td>1</td>\n",
       "      <td>0</td>\n",
       "      <td>113931.57</td>\n",
       "      <td>1</td>\n",
       "      <td>0</td>\n",
       "      <td>0</td>\n",
       "      <td>0</td>\n",
       "    </tr>\n",
       "    <tr>\n",
       "      <th>3</th>\n",
       "      <td>699</td>\n",
       "      <td>39</td>\n",
       "      <td>1.0</td>\n",
       "      <td>0.00</td>\n",
       "      <td>2</td>\n",
       "      <td>0</td>\n",
       "      <td>0</td>\n",
       "      <td>93826.63</td>\n",
       "      <td>0</td>\n",
       "      <td>0</td>\n",
       "      <td>0</td>\n",
       "      <td>0</td>\n",
       "    </tr>\n",
       "    <tr>\n",
       "      <th>4</th>\n",
       "      <td>850</td>\n",
       "      <td>43</td>\n",
       "      <td>2.0</td>\n",
       "      <td>125510.82</td>\n",
       "      <td>1</td>\n",
       "      <td>1</td>\n",
       "      <td>1</td>\n",
       "      <td>79084.10</td>\n",
       "      <td>0</td>\n",
       "      <td>0</td>\n",
       "      <td>1</td>\n",
       "      <td>0</td>\n",
       "    </tr>\n",
       "    <tr>\n",
       "      <th>5</th>\n",
       "      <td>645</td>\n",
       "      <td>44</td>\n",
       "      <td>8.0</td>\n",
       "      <td>113755.78</td>\n",
       "      <td>2</td>\n",
       "      <td>1</td>\n",
       "      <td>0</td>\n",
       "      <td>149756.71</td>\n",
       "      <td>1</td>\n",
       "      <td>0</td>\n",
       "      <td>1</td>\n",
       "      <td>1</td>\n",
       "    </tr>\n",
       "    <tr>\n",
       "      <th>6</th>\n",
       "      <td>822</td>\n",
       "      <td>50</td>\n",
       "      <td>7.0</td>\n",
       "      <td>0.00</td>\n",
       "      <td>2</td>\n",
       "      <td>1</td>\n",
       "      <td>1</td>\n",
       "      <td>10062.80</td>\n",
       "      <td>0</td>\n",
       "      <td>0</td>\n",
       "      <td>0</td>\n",
       "      <td>1</td>\n",
       "    </tr>\n",
       "    <tr>\n",
       "      <th>7</th>\n",
       "      <td>376</td>\n",
       "      <td>29</td>\n",
       "      <td>4.0</td>\n",
       "      <td>115046.74</td>\n",
       "      <td>4</td>\n",
       "      <td>1</td>\n",
       "      <td>0</td>\n",
       "      <td>119346.88</td>\n",
       "      <td>1</td>\n",
       "      <td>1</td>\n",
       "      <td>0</td>\n",
       "      <td>0</td>\n",
       "    </tr>\n",
       "    <tr>\n",
       "      <th>8</th>\n",
       "      <td>501</td>\n",
       "      <td>44</td>\n",
       "      <td>4.0</td>\n",
       "      <td>142051.07</td>\n",
       "      <td>2</td>\n",
       "      <td>0</td>\n",
       "      <td>1</td>\n",
       "      <td>74940.50</td>\n",
       "      <td>0</td>\n",
       "      <td>0</td>\n",
       "      <td>0</td>\n",
       "      <td>1</td>\n",
       "    </tr>\n",
       "    <tr>\n",
       "      <th>9</th>\n",
       "      <td>684</td>\n",
       "      <td>27</td>\n",
       "      <td>2.0</td>\n",
       "      <td>134603.88</td>\n",
       "      <td>1</td>\n",
       "      <td>1</td>\n",
       "      <td>1</td>\n",
       "      <td>71725.73</td>\n",
       "      <td>0</td>\n",
       "      <td>0</td>\n",
       "      <td>0</td>\n",
       "      <td>1</td>\n",
       "    </tr>\n",
       "  </tbody>\n",
       "</table>\n",
       "</div>"
      ],
      "text/plain": [
       "   creditscore  age  tenure    balance  numofproducts  hascrcard  \\\n",
       "0          619   42     2.0       0.00              1          1   \n",
       "1          608   41     1.0   83807.86              1          0   \n",
       "2          502   42     8.0  159660.80              3          1   \n",
       "3          699   39     1.0       0.00              2          0   \n",
       "4          850   43     2.0  125510.82              1          1   \n",
       "5          645   44     8.0  113755.78              2          1   \n",
       "6          822   50     7.0       0.00              2          1   \n",
       "7          376   29     4.0  115046.74              4          1   \n",
       "8          501   44     4.0  142051.07              2          0   \n",
       "9          684   27     2.0  134603.88              1          1   \n",
       "\n",
       "   isactivemember  estimatedsalary  exited  geography_germany  \\\n",
       "0               1        101348.88       1                  0   \n",
       "1               1        112542.58       0                  0   \n",
       "2               0        113931.57       1                  0   \n",
       "3               0         93826.63       0                  0   \n",
       "4               1         79084.10       0                  0   \n",
       "5               0        149756.71       1                  0   \n",
       "6               1         10062.80       0                  0   \n",
       "7               0        119346.88       1                  1   \n",
       "8               1         74940.50       0                  0   \n",
       "9               1         71725.73       0                  0   \n",
       "\n",
       "   geography_spain  gender_male  \n",
       "0                0            0  \n",
       "1                1            0  \n",
       "2                0            0  \n",
       "3                0            0  \n",
       "4                1            0  \n",
       "5                1            1  \n",
       "6                0            1  \n",
       "7                0            0  \n",
       "8                0            1  \n",
       "9                0            1  "
      ]
     },
     "execution_count": 32,
     "metadata": {},
     "output_type": "execute_result"
    }
   ],
   "source": [
    "data.head(10)"
   ]
  },
  {
   "cell_type": "markdown",
   "id": "9041682f",
   "metadata": {},
   "source": [
    "Great!\n",
    "\n",
    "Let's move on."
   ]
  },
  {
   "cell_type": "markdown",
   "id": "92a86d06",
   "metadata": {},
   "source": [
    "**Splitting the data**"
   ]
  },
  {
   "cell_type": "markdown",
   "id": "81ebcfbd",
   "metadata": {},
   "source": [
    "We will divide the data into 3 datasets:\n",
    "1. Training - 60% of the data\n",
    "2. validation - 20% of the data\n",
    "3. Test - 20% of the data"
   ]
  },
  {
   "cell_type": "code",
   "execution_count": 33,
   "id": "befdb588",
   "metadata": {},
   "outputs": [],
   "source": [
    "train_temp, test = train_test_split(data, test_size = 0.2, random_state = 12345, shuffle = True)\n",
    "train, valid = train_test_split(train_temp, test_size = 0.25, random_state = 12345)"
   ]
  },
  {
   "cell_type": "code",
   "execution_count": 34,
   "id": "0e420950",
   "metadata": {},
   "outputs": [
    {
     "name": "stdout",
     "output_type": "stream",
     "text": [
      "The size of the tarin set:59.99%\n",
      "The size of the valid set:20.00%\n",
      "The size of the test set:20.01%\n"
     ]
    }
   ],
   "source": [
    "print('The size of the tarin set:{:.2%}'.format(len(train)/len(data)))\n",
    "print('The size of the valid set:{:.2%}'.format(len(valid)/len(data)))\n",
    "print('The size of the test set:{:.2%}'.format(len(test)/len(data)))"
   ]
  },
  {
   "cell_type": "markdown",
   "id": "d310ab74",
   "metadata": {},
   "source": [
    "Great!\n",
    "\n",
    "Looking good!\n",
    "\n",
    "Let's go build some models!"
   ]
  },
  {
   "cell_type": "code",
   "execution_count": 35,
   "id": "fa26fb19",
   "metadata": {},
   "outputs": [],
   "source": [
    "# Setting the features and target variables for the training set\n",
    "train_features = train.drop('exited', axis = 1) \n",
    "train_target = train['exited']\n",
    "\n",
    "# Setting the features and target variables for the validation set\n",
    "valid_features = valid.drop('exited', axis = 1)\n",
    "valid_target = valid['exited']\n",
    "\n",
    "# Setting the features and target variables for the test set\n",
    "test_features = test.drop('exited', axis = 1)\n",
    "test_target = test['exited']"
   ]
  },
  {
   "cell_type": "markdown",
   "id": "84a8b616",
   "metadata": {},
   "source": []
  },
  {
   "cell_type": "markdown",
   "id": "10268ebe",
   "metadata": {},
   "source": [
    "**Logistic Regression**"
   ]
  },
  {
   "cell_type": "code",
   "execution_count": 36,
   "id": "b64f69dc",
   "metadata": {},
   "outputs": [
    {
     "name": "stdout",
     "output_type": "stream",
     "text": [
      "The F1 score of the Logistic Regression algorithm is:  0.021164021164021163\n",
      "The AUC-ROC of the Logistic Regression algorithm is:  0.6610968101281067\n"
     ]
    }
   ],
   "source": [
    "# Initializing the Logistic Regression algorithm\n",
    "lr = LogisticRegression(random_state = 12345, solver = 'liblinear')\n",
    "\n",
    "# Training the algorithm with the training data\n",
    "lr.fit(train_features, train_target)\n",
    "\n",
    "# Passing the test features to predict the outcome\n",
    "valid_prediction = lr.predict(valid_features)\n",
    "\n",
    "# Calculating the positive class probabilities\n",
    "probabilities_valid = lr.predict_proba(valid_features)\n",
    "probabilities_one_valid = probabilities_valid[:, 1]\n",
    "\n",
    "# Checking the F1 score of the algorithm\n",
    "print('The F1 score of the Logistic Regression algorithm is: ',f1_score(valid_target, valid_prediction))\n",
    "\n",
    "# Checking the AUC-ROC of the algorithm\n",
    "print('The AUC-ROC of the Logistic Regression algorithm is: ',roc_auc_score(valid_target, probabilities_one_valid))"
   ]
  },
  {
   "cell_type": "markdown",
   "id": "c156f092",
   "metadata": {},
   "source": [
    "**Decision Tree**"
   ]
  },
  {
   "cell_type": "code",
   "execution_count": 37,
   "id": "88dffaa2",
   "metadata": {},
   "outputs": [
    {
     "name": "stdout",
     "output_type": "stream",
     "text": [
      "The F1 score of the Decision Tree algorithm is:  0.4952638700947226\n",
      "The AUC-ROC of the Decision Tree algorithm is:  0.6845730027548209\n"
     ]
    }
   ],
   "source": [
    "# Initializing the Logistic Regression algorithm\n",
    "dec_tree = DecisionTreeClassifier(random_state = 12345)\n",
    "\n",
    "# Training the algorithm with the training data\n",
    "dec_tree.fit(train_features, train_target)\n",
    "\n",
    "# Passing the test features to predict the outcome\n",
    "valid_prediction = dec_tree.predict(valid_features)\n",
    "\n",
    "# Calculating the positive class probabilities\n",
    "probabilities_valid = dec_tree.predict_proba(valid_features)\n",
    "probabilities_one_valid = probabilities_valid[:, 1]\n",
    "\n",
    "# Checking the F1 score of the algorithm\n",
    "print('The F1 score of the Decision Tree algorithm is: ',f1_score(valid_target, valid_prediction))\n",
    "\n",
    "# Checking the AUC-ROC of the algorithm\n",
    "print('The AUC-ROC of the Decision Tree algorithm is: ',roc_auc_score(valid_target, probabilities_one_valid))"
   ]
  },
  {
   "cell_type": "markdown",
   "id": "21479c83",
   "metadata": {},
   "source": [
    "**Random Forest**"
   ]
  },
  {
   "cell_type": "code",
   "execution_count": 38,
   "id": "a2dd91ae",
   "metadata": {},
   "outputs": [
    {
     "name": "stdout",
     "output_type": "stream",
     "text": [
      "The F1 score of the Random Forest algorithm is:  0.5507745266781411\n",
      "The AUC-ROC of the Random Forest algorithm is:  0.8326229884538379\n"
     ]
    }
   ],
   "source": [
    "# Initializing the Logistic Regression algorithm\n",
    "forest = RandomForestClassifier(random_state = 12345)\n",
    "\n",
    "# Training the algorithm with the training data\n",
    "forest.fit(train_features, train_target)\n",
    "\n",
    "# Passing the test features to predict the outcome\n",
    "valid_prediction = forest.predict(valid_features)\n",
    "\n",
    "# Calculating the positive class probabilities\n",
    "probabilities_valid = forest.predict_proba(valid_features)\n",
    "probabilities_one_valid = probabilities_valid[:, 1]\n",
    "\n",
    "# Checking the F1 score of the algorithm\n",
    "print('The F1 score of the Random Forest algorithm is: ',f1_score(valid_target, valid_prediction))\n",
    "\n",
    "# Checking the AUC-ROC of the algorithm\n",
    "print('The AUC-ROC of the Random Forest algorithm is: ',roc_auc_score(valid_target, probabilities_one_valid))"
   ]
  },
  {
   "cell_type": "markdown",
   "id": "5a49d448",
   "metadata": {},
   "source": [
    "The Random Forest model has the best scores for the 2 metrics: \n",
    "* **F1** : 0.47\n",
    "* **AUC-ROC**: 0.74\n",
    "\n",
    "But it doesn't good enough. The F1 score doesn't get to at least 0.59. We have to improve the model's performance - let's do this! 🤘"
   ]
  },
  {
   "cell_type": "markdown",
   "id": "34e0b0a4",
   "metadata": {},
   "source": [
    "### Step 3: Improve the quality of the model, taking into account the imbalance of classes. Train different models and find the best one. Briefly describe your findings."
   ]
  },
  {
   "cell_type": "markdown",
   "id": "1f11fe6f",
   "metadata": {},
   "source": [
    "**Standardization of the numeric features**"
   ]
  },
  {
   "cell_type": "code",
   "execution_count": 39,
   "id": "2f169a3b",
   "metadata": {},
   "outputs": [],
   "source": [
    "# Creating a list with all the numeric features\n",
    "numeric = ['creditscore', 'balance', 'estimatedsalary']\n",
    "\n",
    "# Intializing the scaler\n",
    "scaler = StandardScaler()\n",
    "\n",
    "# Tuning the scaler (calculating the mean and variance)\n",
    "scaler.fit(train_features[numeric])\n",
    "\n",
    "# Transforming the the training, validation and test sets \n",
    "train_features[numeric] = scaler.transform(train_features[numeric])\n",
    "valid_features[numeric] = scaler.transform(valid_features[numeric])\n",
    "test_features[numeric] = scaler.transform(test_features[numeric])"
   ]
  },
  {
   "cell_type": "code",
   "execution_count": 40,
   "id": "a33309e0",
   "metadata": {},
   "outputs": [
    {
     "data": {
      "text/html": [
       "<div>\n",
       "<style scoped>\n",
       "    .dataframe tbody tr th:only-of-type {\n",
       "        vertical-align: middle;\n",
       "    }\n",
       "\n",
       "    .dataframe tbody tr th {\n",
       "        vertical-align: top;\n",
       "    }\n",
       "\n",
       "    .dataframe thead th {\n",
       "        text-align: right;\n",
       "    }\n",
       "</style>\n",
       "<table border=\"1\" class=\"dataframe\">\n",
       "  <thead>\n",
       "    <tr style=\"text-align: right;\">\n",
       "      <th></th>\n",
       "      <th>creditscore</th>\n",
       "      <th>age</th>\n",
       "      <th>tenure</th>\n",
       "      <th>balance</th>\n",
       "      <th>numofproducts</th>\n",
       "      <th>hascrcard</th>\n",
       "      <th>isactivemember</th>\n",
       "      <th>estimatedsalary</th>\n",
       "      <th>geography_germany</th>\n",
       "      <th>geography_spain</th>\n",
       "      <th>gender_male</th>\n",
       "    </tr>\n",
       "  </thead>\n",
       "  <tbody>\n",
       "    <tr>\n",
       "      <th>3706</th>\n",
       "      <td>-0.203819</td>\n",
       "      <td>44</td>\n",
       "      <td>6.0</td>\n",
       "      <td>0.786022</td>\n",
       "      <td>2</td>\n",
       "      <td>0</td>\n",
       "      <td>0</td>\n",
       "      <td>-0.357205</td>\n",
       "      <td>0</td>\n",
       "      <td>1</td>\n",
       "      <td>0</td>\n",
       "    </tr>\n",
       "    <tr>\n",
       "      <th>6805</th>\n",
       "      <td>-0.357513</td>\n",
       "      <td>35</td>\n",
       "      <td>1.0</td>\n",
       "      <td>-1.230577</td>\n",
       "      <td>2</td>\n",
       "      <td>1</td>\n",
       "      <td>1</td>\n",
       "      <td>-1.671048</td>\n",
       "      <td>0</td>\n",
       "      <td>0</td>\n",
       "      <td>0</td>\n",
       "    </tr>\n",
       "  </tbody>\n",
       "</table>\n",
       "</div>"
      ],
      "text/plain": [
       "      creditscore  age  tenure   balance  numofproducts  hascrcard  \\\n",
       "3706    -0.203819   44     6.0  0.786022              2          0   \n",
       "6805    -0.357513   35     1.0 -1.230577              2          1   \n",
       "\n",
       "      isactivemember  estimatedsalary  geography_germany  geography_spain  \\\n",
       "3706               0        -0.357205                  0                1   \n",
       "6805               1        -1.671048                  0                0   \n",
       "\n",
       "      gender_male  \n",
       "3706            0  \n",
       "6805            0  "
      ]
     },
     "execution_count": 40,
     "metadata": {},
     "output_type": "execute_result"
    }
   ],
   "source": [
    "train_features.head(2)"
   ]
  },
  {
   "cell_type": "code",
   "execution_count": 41,
   "id": "efd4434b",
   "metadata": {},
   "outputs": [
    {
     "data": {
      "text/html": [
       "<div>\n",
       "<style scoped>\n",
       "    .dataframe tbody tr th:only-of-type {\n",
       "        vertical-align: middle;\n",
       "    }\n",
       "\n",
       "    .dataframe tbody tr th {\n",
       "        vertical-align: top;\n",
       "    }\n",
       "\n",
       "    .dataframe thead th {\n",
       "        text-align: right;\n",
       "    }\n",
       "</style>\n",
       "<table border=\"1\" class=\"dataframe\">\n",
       "  <thead>\n",
       "    <tr style=\"text-align: right;\">\n",
       "      <th></th>\n",
       "      <th>creditscore</th>\n",
       "      <th>age</th>\n",
       "      <th>tenure</th>\n",
       "      <th>balance</th>\n",
       "      <th>numofproducts</th>\n",
       "      <th>hascrcard</th>\n",
       "      <th>isactivemember</th>\n",
       "      <th>estimatedsalary</th>\n",
       "      <th>geography_germany</th>\n",
       "      <th>geography_spain</th>\n",
       "      <th>gender_male</th>\n",
       "    </tr>\n",
       "  </thead>\n",
       "  <tbody>\n",
       "    <tr>\n",
       "      <th>4799</th>\n",
       "      <td>-1.003024</td>\n",
       "      <td>52</td>\n",
       "      <td>1.0</td>\n",
       "      <td>-1.230577</td>\n",
       "      <td>1</td>\n",
       "      <td>0</td>\n",
       "      <td>0</td>\n",
       "      <td>-0.626048</td>\n",
       "      <td>0</td>\n",
       "      <td>0</td>\n",
       "      <td>1</td>\n",
       "    </tr>\n",
       "    <tr>\n",
       "      <th>396</th>\n",
       "      <td>-0.941546</td>\n",
       "      <td>33</td>\n",
       "      <td>3.0</td>\n",
       "      <td>-0.354876</td>\n",
       "      <td>1</td>\n",
       "      <td>1</td>\n",
       "      <td>1</td>\n",
       "      <td>-1.722595</td>\n",
       "      <td>0</td>\n",
       "      <td>0</td>\n",
       "      <td>1</td>\n",
       "    </tr>\n",
       "  </tbody>\n",
       "</table>\n",
       "</div>"
      ],
      "text/plain": [
       "      creditscore  age  tenure   balance  numofproducts  hascrcard  \\\n",
       "4799    -1.003024   52     1.0 -1.230577              1          0   \n",
       "396     -0.941546   33     3.0 -0.354876              1          1   \n",
       "\n",
       "      isactivemember  estimatedsalary  geography_germany  geography_spain  \\\n",
       "4799               0        -0.626048                  0                0   \n",
       "396                1        -1.722595                  0                0   \n",
       "\n",
       "      gender_male  \n",
       "4799            1  \n",
       "396             1  "
      ]
     },
     "execution_count": 41,
     "metadata": {},
     "output_type": "execute_result"
    }
   ],
   "source": [
    "valid_features.head(2)"
   ]
  },
  {
   "cell_type": "code",
   "execution_count": 42,
   "id": "39155cd6",
   "metadata": {},
   "outputs": [
    {
     "data": {
      "text/html": [
       "<div>\n",
       "<style scoped>\n",
       "    .dataframe tbody tr th:only-of-type {\n",
       "        vertical-align: middle;\n",
       "    }\n",
       "\n",
       "    .dataframe tbody tr th {\n",
       "        vertical-align: top;\n",
       "    }\n",
       "\n",
       "    .dataframe thead th {\n",
       "        text-align: right;\n",
       "    }\n",
       "</style>\n",
       "<table border=\"1\" class=\"dataframe\">\n",
       "  <thead>\n",
       "    <tr style=\"text-align: right;\">\n",
       "      <th></th>\n",
       "      <th>creditscore</th>\n",
       "      <th>age</th>\n",
       "      <th>tenure</th>\n",
       "      <th>balance</th>\n",
       "      <th>numofproducts</th>\n",
       "      <th>hascrcard</th>\n",
       "      <th>isactivemember</th>\n",
       "      <th>estimatedsalary</th>\n",
       "      <th>geography_germany</th>\n",
       "      <th>geography_spain</th>\n",
       "      <th>gender_male</th>\n",
       "    </tr>\n",
       "  </thead>\n",
       "  <tbody>\n",
       "    <tr>\n",
       "      <th>862</th>\n",
       "      <td>0.779816</td>\n",
       "      <td>41</td>\n",
       "      <td>7.0</td>\n",
       "      <td>0.600726</td>\n",
       "      <td>1</td>\n",
       "      <td>1</td>\n",
       "      <td>1</td>\n",
       "      <td>0.295405</td>\n",
       "      <td>0</td>\n",
       "      <td>0</td>\n",
       "      <td>1</td>\n",
       "    </tr>\n",
       "    <tr>\n",
       "      <th>9727</th>\n",
       "      <td>-1.218194</td>\n",
       "      <td>45</td>\n",
       "      <td>1.0</td>\n",
       "      <td>-1.230577</td>\n",
       "      <td>1</td>\n",
       "      <td>0</td>\n",
       "      <td>1</td>\n",
       "      <td>1.578362</td>\n",
       "      <td>0</td>\n",
       "      <td>0</td>\n",
       "      <td>0</td>\n",
       "    </tr>\n",
       "  </tbody>\n",
       "</table>\n",
       "</div>"
      ],
      "text/plain": [
       "      creditscore  age  tenure   balance  numofproducts  hascrcard  \\\n",
       "862      0.779816   41     7.0  0.600726              1          1   \n",
       "9727    -1.218194   45     1.0 -1.230577              1          0   \n",
       "\n",
       "      isactivemember  estimatedsalary  geography_germany  geography_spain  \\\n",
       "862                1         0.295405                  0                0   \n",
       "9727               1         1.578362                  0                0   \n",
       "\n",
       "      gender_male  \n",
       "862             1  \n",
       "9727            0  "
      ]
     },
     "execution_count": 42,
     "metadata": {},
     "output_type": "execute_result"
    }
   ],
   "source": [
    "test_features.head(2)"
   ]
  },
  {
   "cell_type": "markdown",
   "id": "4a51049f",
   "metadata": {},
   "source": [
    "Great!\n",
    "\n",
    "Let's move on!"
   ]
  },
  {
   "cell_type": "markdown",
   "id": "059c9f01",
   "metadata": {},
   "source": [
    "**Approach 1: Upsampling the target variable**"
   ]
  },
  {
   "cell_type": "markdown",
   "id": "908007c5",
   "metadata": {},
   "source": [
    "We have a significant imbalance here as we detected earlier. Let's take care of it."
   ]
  },
  {
   "cell_type": "code",
   "execution_count": 43,
   "id": "b3b0e839",
   "metadata": {},
   "outputs": [],
   "source": [
    "# Building an upsample() fucntion \n",
    "def upsample (features, target):\n",
    "    \n",
    "    features_zero = features[target == 0]\n",
    "    features_one = features[target == 1]\n",
    "    target_zero = target[target == 0]\n",
    "    target_one = target[target==1]\n",
    "    \n",
    "    repeat = int(len(target_zero) / len(target_one) )\n",
    "    \n",
    "    features_upsampled = pd.concat([features_zero] + [features_one]*repeat)\n",
    "    target_upsampled = pd.concat([target_zero] + [target_one]*repeat)\n",
    "    \n",
    "    features_upsampled, target_upsampled = shuffle(features_upsampled, target_upsampled, random_state = 12345)\n",
    "    \n",
    "    return features_upsampled, target_upsampled\n",
    "\n",
    "# Calling the function for the upsampling features and target\n",
    "features_upsampled, target_upsampled = upsample(train_features, train_target)\n"
   ]
  },
  {
   "cell_type": "markdown",
   "id": "4064eca6",
   "metadata": {},
   "source": [
    "Great!\n",
    "\n",
    "Now let's build some models with the new data!"
   ]
  },
  {
   "cell_type": "markdown",
   "id": "a3d91f5c",
   "metadata": {},
   "source": [
    "**Logistic Regression**"
   ]
  },
  {
   "cell_type": "code",
   "execution_count": 44,
   "id": "4622773c",
   "metadata": {},
   "outputs": [],
   "source": [
    "# Initializing the Logistic Regression algorithm\n",
    "lr_upsam = LogisticRegression(random_state = 12345, solver = 'liblinear')\n",
    "\n",
    "# Training the algorithm with the training data\n",
    "lr_upsam.fit(features_upsampled, target_upsampled)\n",
    "\n",
    "# Calculating the positive class probabilities\n",
    "probabilities_valid_lg = lr_upsam.predict_proba(valid_features)\n",
    "probabilities_one_valid_lg = probabilities_valid_lg[:, 1]\n"
   ]
  },
  {
   "cell_type": "code",
   "execution_count": 45,
   "id": "f76aacaa",
   "metadata": {},
   "outputs": [
    {
     "name": "stdout",
     "output_type": "stream",
     "text": [
      "Threshold = 0.0 | f1_score = 0.3351648351648352\n",
      "--------------------------------------\n",
      "Threshold = 0.02 | f1_score = 0.3351648351648352\n",
      "--------------------------------------\n",
      "Threshold = 0.04 | f1_score = 0.3344021988089784\n",
      "--------------------------------------\n",
      "Threshold = 0.06 | f1_score = 0.3348666053357866\n",
      "--------------------------------------\n",
      "Threshold = 0.08 | f1_score = 0.33813283790060383\n",
      "--------------------------------------\n",
      "Threshold = 0.1 | f1_score = 0.3424528301886793\n",
      "--------------------------------------\n",
      "Threshold = 0.12 | f1_score = 0.34795180722891567\n",
      "--------------------------------------\n",
      "Threshold = 0.14 | f1_score = 0.3569292123629113\n",
      "--------------------------------------\n",
      "Threshold = 0.16 | f1_score = 0.36795865633074937\n",
      "--------------------------------------\n",
      "Threshold = 0.18 | f1_score = 0.3814655172413793\n",
      "--------------------------------------\n",
      "Threshold = 0.2 | f1_score = 0.39327731092436974\n",
      "--------------------------------------\n",
      "Threshold = 0.22 | f1_score = 0.4034985422740525\n",
      "--------------------------------------\n",
      "Threshold = 0.24 | f1_score = 0.41778319123020713\n",
      "--------------------------------------\n",
      "Threshold = 0.26 | f1_score = 0.4312220089571337\n",
      "--------------------------------------\n",
      "Threshold = 0.28 | f1_score = 0.4381720430107527\n",
      "--------------------------------------\n",
      "Threshold = 0.3 | f1_score = 0.4502840909090909\n",
      "--------------------------------------\n",
      "Threshold = 0.32 | f1_score = 0.45833333333333326\n",
      "--------------------------------------\n",
      "Threshold = 0.34 | f1_score = 0.4650077760497667\n",
      "--------------------------------------\n",
      "Threshold = 0.36 | f1_score = 0.4741935483870968\n",
      "--------------------------------------\n",
      "Threshold = 0.38 | f1_score = 0.4800678541136556\n",
      "--------------------------------------\n",
      "Threshold = 0.4 | f1_score = 0.4834377797672337\n",
      "--------------------------------------\n",
      "Threshold = 0.42 | f1_score = 0.4929178470254958\n",
      "--------------------------------------\n",
      "Threshold = 0.44 | f1_score = 0.49455984174085077\n",
      "--------------------------------------\n",
      "Threshold = 0.46 | f1_score = 0.4910807974816369\n",
      "--------------------------------------\n",
      "Threshold = 0.48 | f1_score = 0.49448123620309054\n",
      "--------------------------------------\n"
     ]
    }
   ],
   "source": [
    "#Setting up a different threshold \n",
    "for i in np.arange(0, 0.5, 0.02):\n",
    "    predicted_valid_lg = probabilities_one_valid_lg > i\n",
    "    print('Threshold =',i, '|', 'f1_score =', f1_score(valid_target, predicted_valid_lg))\n",
    "    print('--------------------------------------')"
   ]
  },
  {
   "cell_type": "markdown",
   "id": "b80c8427",
   "metadata": {},
   "source": [
    "The results show us that the best F1 score is when the threshold is equal to 0.44. (It still don't good enough for the threshold of F1_score = 0.59).\n",
    "\n",
    "Let's print the final metrics values."
   ]
  },
  {
   "cell_type": "code",
   "execution_count": 46,
   "id": "e2ed37bf",
   "metadata": {},
   "outputs": [
    {
     "name": "stdout",
     "output_type": "stream",
     "text": [
      "The F1 score of the Logistic Regression algorithm is:  0.49455984174085077\n",
      "The AUC-ROC of the Logistic Regression algorithm is:  0.774648496891418\n"
     ]
    }
   ],
   "source": [
    "#Printing the F1 score of the algorithm\n",
    "predicted_valid_lg = probabilities_one_valid_lg > 0.44\n",
    "print('The F1 score of the Logistic Regression algorithm is: ',f1_score(valid_target, predicted_valid_lg))\n",
    "\n",
    "# Checking the AUC-ROC of the algorithm\n",
    "print('The AUC-ROC of the Logistic Regression algorithm is: ',roc_auc_score(valid_target, probabilities_one_valid_lg))"
   ]
  },
  {
   "cell_type": "markdown",
   "id": "9d7545a7",
   "metadata": {},
   "source": [
    "**Decision Tree**"
   ]
  },
  {
   "cell_type": "code",
   "execution_count": 47,
   "id": "067b8a58",
   "metadata": {},
   "outputs": [],
   "source": [
    "# Initializing the Logistic Regression algorithm\n",
    "dec_tree_upsam = DecisionTreeClassifier(random_state = 12345)\n",
    "\n",
    "# Training the algorithm with the training data\n",
    "dec_tree_upsam.fit(features_upsampled, target_upsampled)\n",
    "\n",
    "# Calculating the positive class probabilities\n",
    "probabilities_valid_tree = dec_tree_upsam.predict_proba(valid_features)\n",
    "probabilities_one_valid_tree = probabilities_valid_tree[:, 1]\n"
   ]
  },
  {
   "cell_type": "code",
   "execution_count": 48,
   "id": "15434f50",
   "metadata": {},
   "outputs": [
    {
     "name": "stdout",
     "output_type": "stream",
     "text": [
      "Threshold = 0.0 | f1_score = 0.4925170068027211\n",
      "--------------------------------------\n",
      "Threshold = 0.02 | f1_score = 0.4925170068027211\n",
      "--------------------------------------\n",
      "Threshold = 0.04 | f1_score = 0.4925170068027211\n",
      "--------------------------------------\n",
      "Threshold = 0.06 | f1_score = 0.4925170068027211\n",
      "--------------------------------------\n",
      "Threshold = 0.08 | f1_score = 0.4925170068027211\n",
      "--------------------------------------\n",
      "Threshold = 0.1 | f1_score = 0.4925170068027211\n",
      "--------------------------------------\n",
      "Threshold = 0.12 | f1_score = 0.4925170068027211\n",
      "--------------------------------------\n",
      "Threshold = 0.14 | f1_score = 0.4925170068027211\n",
      "--------------------------------------\n",
      "Threshold = 0.16 | f1_score = 0.4925170068027211\n",
      "--------------------------------------\n",
      "Threshold = 0.18 | f1_score = 0.4925170068027211\n",
      "--------------------------------------\n",
      "Threshold = 0.2 | f1_score = 0.4925170068027211\n",
      "--------------------------------------\n",
      "Threshold = 0.22 | f1_score = 0.4925170068027211\n",
      "--------------------------------------\n",
      "Threshold = 0.24 | f1_score = 0.4925170068027211\n",
      "--------------------------------------\n",
      "Threshold = 0.26 | f1_score = 0.4925170068027211\n",
      "--------------------------------------\n",
      "Threshold = 0.28 | f1_score = 0.4925170068027211\n",
      "--------------------------------------\n",
      "Threshold = 0.3 | f1_score = 0.4925170068027211\n",
      "--------------------------------------\n",
      "Threshold = 0.32 | f1_score = 0.4925170068027211\n",
      "--------------------------------------\n",
      "Threshold = 0.34 | f1_score = 0.4925170068027211\n",
      "--------------------------------------\n",
      "Threshold = 0.36 | f1_score = 0.4925170068027211\n",
      "--------------------------------------\n",
      "Threshold = 0.38 | f1_score = 0.4925170068027211\n",
      "--------------------------------------\n",
      "Threshold = 0.4 | f1_score = 0.4925170068027211\n",
      "--------------------------------------\n",
      "Threshold = 0.42 | f1_score = 0.4925170068027211\n",
      "--------------------------------------\n",
      "Threshold = 0.44 | f1_score = 0.4925170068027211\n",
      "--------------------------------------\n",
      "Threshold = 0.46 | f1_score = 0.4925170068027211\n",
      "--------------------------------------\n",
      "Threshold = 0.48 | f1_score = 0.4925170068027211\n",
      "--------------------------------------\n"
     ]
    }
   ],
   "source": [
    "#Setting up a different threshold \n",
    "for i in np.arange(0, 0.5, 0.02):\n",
    "    predicted_valid_tree = probabilities_one_valid_tree > i\n",
    "    print('Threshold =',i, '|', 'f1_score =', f1_score(valid_target, predicted_valid_tree))\n",
    "    print('--------------------------------------')"
   ]
  },
  {
   "cell_type": "markdown",
   "id": "12267d90",
   "metadata": {},
   "source": [
    "The outcomes show us that the F1 score is the same no matter how we adjust the threshold. \n",
    "\n",
    "Let's print the final metrics values."
   ]
  },
  {
   "cell_type": "code",
   "execution_count": 49,
   "id": "d8160a55",
   "metadata": {},
   "outputs": [
    {
     "name": "stdout",
     "output_type": "stream",
     "text": [
      "The F1 score of the Decision Tree algorithm is:  0.4925170068027211\n",
      "The AUC-ROC of the Decision Tree algorithm is:  0.6825294675518223\n"
     ]
    }
   ],
   "source": [
    "# Checking the F1 score of the algorithm\n",
    "print('The F1 score of the Decision Tree algorithm is: ',f1_score(valid_target, predicted_valid_tree))\n",
    "\n",
    "# Checking the AUC-ROC of the algorithm\n",
    "print('The AUC-ROC of the Decision Tree algorithm is: ',roc_auc_score(valid_target, probabilities_one_valid_tree))"
   ]
  },
  {
   "cell_type": "markdown",
   "id": "0ea6a4b6",
   "metadata": {},
   "source": [
    "**Random Forest**"
   ]
  },
  {
   "cell_type": "code",
   "execution_count": 50,
   "id": "4e3b3b40",
   "metadata": {},
   "outputs": [],
   "source": [
    "# Initializing the Random Forest algorithm\n",
    "forest_upsam = RandomForestClassifier(random_state = 12345, n_estimators=300)\n",
    "\n",
    "# Training the algorithm with the training data\n",
    "forest_upsam.fit(features_upsampled, target_upsampled)\n",
    "\n",
    "# Calculating the positive class probabilities\n",
    "probabilities_valid_forest = forest_upsam.predict_proba(valid_features)\n",
    "probabilities_one_valid_forest = probabilities_valid_forest[:, 1]"
   ]
  },
  {
   "cell_type": "code",
   "execution_count": 51,
   "id": "ab5108cc",
   "metadata": {},
   "outputs": [
    {
     "name": "stdout",
     "output_type": "stream",
     "text": [
      "Threshold = 0.0 | f1_score = 0.33670653173873044\n",
      "--------------------------------------\n",
      "Threshold = 0.04 | f1_score = 0.38453276047261015\n",
      "--------------------------------------\n",
      "Threshold = 0.08 | f1_score = 0.42492211838006233\n",
      "--------------------------------------\n",
      "Threshold = 0.12 | f1_score = 0.46738351254480287\n",
      "--------------------------------------\n",
      "Threshold = 0.16 | f1_score = 0.5016233766233766\n",
      "--------------------------------------\n",
      "Threshold = 0.2 | f1_score = 0.5244122965641953\n",
      "--------------------------------------\n",
      "Threshold = 0.24 | f1_score = 0.5483234714003944\n",
      "--------------------------------------\n",
      "Threshold = 0.28 | f1_score = 0.5599999999999999\n",
      "--------------------------------------\n",
      "Threshold = 0.32 | f1_score = 0.5767878077373975\n",
      "--------------------------------------\n",
      "Threshold = 0.36 | f1_score = 0.587360594795539\n",
      "--------------------------------------\n",
      "Threshold = 0.4 | f1_score = 0.5941644562334217\n",
      "--------------------------------------\n",
      "Threshold = 0.44 | f1_score = 0.603399433427762\n",
      "--------------------------------------\n",
      "Threshold = 0.48 | f1_score = 0.5939393939393939\n",
      "--------------------------------------\n"
     ]
    }
   ],
   "source": [
    "#Setting up a different threshold \n",
    "for i in np.arange(0, 0.5, 0.04):\n",
    "    predicted_valid_forest = probabilities_one_valid_forest > i\n",
    "    print('Threshold =',i, '|', 'f1_score =', f1_score(valid_target, predicted_valid_forest))\n",
    "    print('--------------------------------------')"
   ]
  },
  {
   "cell_type": "markdown",
   "id": "c83ce190",
   "metadata": {},
   "source": [
    "So here we see that the best F1 score is when the threshold is set to be 0.44. \n",
    "Let's summarize and print the metrics."
   ]
  },
  {
   "cell_type": "code",
   "execution_count": 52,
   "id": "456fc753",
   "metadata": {},
   "outputs": [
    {
     "name": "stdout",
     "output_type": "stream",
     "text": [
      "The F1 score of the Random Forest algorithm is:  0.603399433427762\n",
      "The AUC-ROC of the Random Forest algorithm is:  0.8352921916632796\n"
     ]
    }
   ],
   "source": [
    "#Printing the F1 score of the algorithm\n",
    "predicted_valid_forest = probabilities_one_valid_forest > 0.44\n",
    "print('The F1 score of the Random Forest algorithm is: ',f1_score(valid_target, predicted_valid_forest))\n",
    "\n",
    "# Checking the AUC-ROC of the algorithm\n",
    "print('The AUC-ROC of the Random Forest algorithm is: ',roc_auc_score(valid_target, probabilities_one_valid_forest))"
   ]
  },
  {
   "cell_type": "markdown",
   "id": "6e782281",
   "metadata": {},
   "source": [
    "The RandomForest algorithm is clearly the lead here, with the highest scores - it reached the threshold of F1 score=0.6!\n",
    "\n",
    "Let's see how it performs with new data - the test set."
   ]
  },
  {
   "cell_type": "markdown",
   "id": "c7efe0ca",
   "metadata": {},
   "source": [
    "**Approach 2: Downsampling the target variable**"
   ]
  },
  {
   "cell_type": "code",
   "execution_count": 53,
   "id": "b20ff6ee",
   "metadata": {},
   "outputs": [],
   "source": [
    "# Building an downsample() fucntion \n",
    "def downsample (features, target):\n",
    "    \n",
    "    features_zero = features[target == 0]\n",
    "    features_one = features[target == 1]\n",
    "    target_zero = target[target == 0]\n",
    "    target_one = target[target==1]\n",
    "    \n",
    "    fraction = len(target_one)/len(target_zero)\n",
    "    \n",
    "    features_downsampled = pd.concat([features_zero.sample(frac=fraction, random_state=12345)] + [features_one])\n",
    "    target_downsampled = pd.concat([target_zero.sample(frac=fraction, random_state=12345)] + [target_one])\n",
    "    \n",
    "    features_downsampled, target_downsampled = shuffle(features_downsampled, target_downsampled, random_state=12345)\n",
    "    \n",
    "    return features_downsampled, target_downsampled\n",
    "\n",
    "# Calling the function for the downsampling features and target\n",
    "features_downsampled, target_downsampled = downsample(train_features, train_target)"
   ]
  },
  {
   "cell_type": "markdown",
   "id": "f81d2c8d",
   "metadata": {},
   "source": [
    "Great!\n",
    "\n",
    "Now let's go build some models with the downsampled data. "
   ]
  },
  {
   "cell_type": "markdown",
   "id": "5d549f34",
   "metadata": {},
   "source": [
    "**Logistic Regression**"
   ]
  },
  {
   "cell_type": "code",
   "execution_count": 54,
   "id": "7b4da385",
   "metadata": {},
   "outputs": [],
   "source": [
    "# Initializing the Logistic Regression algorithm\n",
    "lr_downsam = LogisticRegression(random_state = 12345, solver = 'liblinear')\n",
    "\n",
    "# Training the algorithm with the training data\n",
    "lr_downsam.fit(features_downsampled, target_downsampled)\n",
    "\n",
    "# Calculating the positive class probabilities\n",
    "probabilities_valid_lg = lr_downsam.predict_proba(valid_features)\n",
    "probabilities_one_valid_lg = probabilities_valid_lg[:, 1]"
   ]
  },
  {
   "cell_type": "code",
   "execution_count": 55,
   "id": "85f12593",
   "metadata": {},
   "outputs": [
    {
     "name": "stdout",
     "output_type": "stream",
     "text": [
      "Threshold = 0.0 | f1_score = 0.3351648351648352\n",
      "--------------------------------------\n",
      "Threshold = 0.02 | f1_score = 0.3351648351648352\n",
      "--------------------------------------\n",
      "Threshold = 0.04 | f1_score = 0.3351648351648352\n",
      "--------------------------------------\n",
      "Threshold = 0.06 | f1_score = 0.33455545371219064\n",
      "--------------------------------------\n",
      "Threshold = 0.08 | f1_score = 0.33440514469453375\n",
      "--------------------------------------\n",
      "Threshold = 0.1 | f1_score = 0.3367252543940796\n",
      "--------------------------------------\n",
      "Threshold = 0.12 | f1_score = 0.33988764044943814\n",
      "--------------------------------------\n",
      "Threshold = 0.14 | f1_score = 0.34312796208530805\n",
      "--------------------------------------\n",
      "Threshold = 0.16 | f1_score = 0.34749034749034746\n",
      "--------------------------------------\n",
      "Threshold = 0.18 | f1_score = 0.3565737051792829\n",
      "--------------------------------------\n",
      "Threshold = 0.2 | f1_score = 0.3682310469314079\n",
      "--------------------------------------\n",
      "Threshold = 0.22 | f1_score = 0.37840726884019243\n",
      "--------------------------------------\n",
      "Threshold = 0.24 | f1_score = 0.3878453038674033\n",
      "--------------------------------------\n",
      "Threshold = 0.26 | f1_score = 0.3961187214611872\n",
      "--------------------------------------\n",
      "Threshold = 0.28 | f1_score = 0.4080425783560024\n",
      "--------------------------------------\n",
      "Threshold = 0.3 | f1_score = 0.42176870748299317\n",
      "--------------------------------------\n",
      "Threshold = 0.32 | f1_score = 0.4371373307543521\n",
      "--------------------------------------\n",
      "Threshold = 0.34 | f1_score = 0.4445945945945946\n",
      "--------------------------------------\n",
      "Threshold = 0.36 | f1_score = 0.4482269503546099\n",
      "--------------------------------------\n",
      "Threshold = 0.38 | f1_score = 0.4606240713224369\n",
      "--------------------------------------\n",
      "Threshold = 0.4 | f1_score = 0.46957878315132606\n",
      "--------------------------------------\n",
      "Threshold = 0.42 | f1_score = 0.47020933977455714\n",
      "--------------------------------------\n",
      "Threshold = 0.44 | f1_score = 0.4809483488569009\n",
      "--------------------------------------\n",
      "Threshold = 0.46 | f1_score = 0.4869721473495058\n",
      "--------------------------------------\n",
      "Threshold = 0.48 | f1_score = 0.49572649572649563\n",
      "--------------------------------------\n",
      "Threshold = 0.5 | f1_score = 0.5004985044865404\n",
      "--------------------------------------\n",
      "Threshold = 0.52 | f1_score = 0.5057232049947971\n",
      "--------------------------------------\n",
      "Threshold = 0.54 | f1_score = 0.501108647450111\n",
      "--------------------------------------\n",
      "Threshold = 0.56 | f1_score = 0.4876905041031653\n",
      "--------------------------------------\n",
      "Threshold = 0.58 | f1_score = 0.4901960784313726\n",
      "--------------------------------------\n"
     ]
    }
   ],
   "source": [
    "#Setting up a different threshold \n",
    "for i in np.arange(0, 0.6, 0.02):\n",
    "    predicted_valid_lg = probabilities_one_valid_lg > i\n",
    "    print('Threshold =',i, '|', 'f1_score =', f1_score(valid_target, predicted_valid_lg))\n",
    "    print('--------------------------------------')"
   ]
  },
  {
   "cell_type": "markdown",
   "id": "52264c35",
   "metadata": {},
   "source": [
    "The output tells us that the best F1 score is when the threshold is set to be 0.54. \n",
    "\n",
    "Let's print the final metrics."
   ]
  },
  {
   "cell_type": "code",
   "execution_count": 56,
   "id": "9d7d8da9",
   "metadata": {},
   "outputs": [
    {
     "name": "stdout",
     "output_type": "stream",
     "text": [
      "The F1 score of the Logistic Regression algorithm is:  0.501108647450111\n",
      "The AUC-ROC of the Logistic Regression algorithm is:  0.7769385358804137\n"
     ]
    }
   ],
   "source": [
    "#Printing the F1 score of the algorithm\n",
    "predicted_valid_lg = probabilities_one_valid_lg > 0.54\n",
    "print('The F1 score of the Logistic Regression algorithm is: ',f1_score(valid_target, predicted_valid_lg))\n",
    "\n",
    "# Checking the AUC-ROC of the algorithm\n",
    "print('The AUC-ROC of the Logistic Regression algorithm is: ',roc_auc_score(valid_target, probabilities_one_valid_lg))"
   ]
  },
  {
   "cell_type": "markdown",
   "id": "4cffbd97",
   "metadata": {},
   "source": [
    "**Decision Tree**"
   ]
  },
  {
   "cell_type": "code",
   "execution_count": 57,
   "id": "93be7962",
   "metadata": {},
   "outputs": [],
   "source": [
    "# Initializing the Decision Tree algorithm\n",
    "dec_tree_downsam = DecisionTreeClassifier(random_state = 12345)\n",
    "\n",
    "# Training the algorithm with the training data\n",
    "dec_tree_downsam.fit(features_downsampled, target_downsampled)\n",
    "\n",
    "# Calculating the positive class probabilities\n",
    "probabilities_valid_tree = dec_tree_downsam.predict_proba(valid_features)\n",
    "probabilities_one_valid_tree = probabilities_valid_tree[:, 1]"
   ]
  },
  {
   "cell_type": "code",
   "execution_count": 58,
   "id": "e6ef1006",
   "metadata": {},
   "outputs": [
    {
     "name": "stdout",
     "output_type": "stream",
     "text": [
      "Threshold = 0.0 | f1_score = 0.4601113172541744\n",
      "--------------------------------------\n",
      "Threshold = 0.02 | f1_score = 0.4601113172541744\n",
      "--------------------------------------\n",
      "Threshold = 0.04 | f1_score = 0.4601113172541744\n",
      "--------------------------------------\n",
      "Threshold = 0.06 | f1_score = 0.4601113172541744\n",
      "--------------------------------------\n",
      "Threshold = 0.08 | f1_score = 0.4601113172541744\n",
      "--------------------------------------\n",
      "Threshold = 0.1 | f1_score = 0.4601113172541744\n",
      "--------------------------------------\n",
      "Threshold = 0.12 | f1_score = 0.4601113172541744\n",
      "--------------------------------------\n",
      "Threshold = 0.14 | f1_score = 0.4601113172541744\n",
      "--------------------------------------\n",
      "Threshold = 0.16 | f1_score = 0.4601113172541744\n",
      "--------------------------------------\n",
      "Threshold = 0.18 | f1_score = 0.4601113172541744\n",
      "--------------------------------------\n",
      "Threshold = 0.2 | f1_score = 0.4601113172541744\n",
      "--------------------------------------\n",
      "Threshold = 0.22 | f1_score = 0.4601113172541744\n",
      "--------------------------------------\n",
      "Threshold = 0.24 | f1_score = 0.4601113172541744\n",
      "--------------------------------------\n",
      "Threshold = 0.26 | f1_score = 0.4601113172541744\n",
      "--------------------------------------\n",
      "Threshold = 0.28 | f1_score = 0.4601113172541744\n",
      "--------------------------------------\n",
      "Threshold = 0.3 | f1_score = 0.4601113172541744\n",
      "--------------------------------------\n",
      "Threshold = 0.32 | f1_score = 0.4601113172541744\n",
      "--------------------------------------\n",
      "Threshold = 0.34 | f1_score = 0.4601113172541744\n",
      "--------------------------------------\n",
      "Threshold = 0.36 | f1_score = 0.4601113172541744\n",
      "--------------------------------------\n",
      "Threshold = 0.38 | f1_score = 0.4601113172541744\n",
      "--------------------------------------\n",
      "Threshold = 0.4 | f1_score = 0.4601113172541744\n",
      "--------------------------------------\n",
      "Threshold = 0.42 | f1_score = 0.4601113172541744\n",
      "--------------------------------------\n",
      "Threshold = 0.44 | f1_score = 0.4601113172541744\n",
      "--------------------------------------\n",
      "Threshold = 0.46 | f1_score = 0.4601113172541744\n",
      "--------------------------------------\n",
      "Threshold = 0.48 | f1_score = 0.4601113172541744\n",
      "--------------------------------------\n"
     ]
    }
   ],
   "source": [
    "#Setting up a different threshold \n",
    "for i in np.arange(0, 0.5, 0.02):\n",
    "    predicted_valid_tree = probabilities_one_valid_tree > i\n",
    "    print('Threshold =',i, '|', 'f1_score =', f1_score(valid_target, predicted_valid_tree))\n",
    "    print('--------------------------------------')"
   ]
  },
  {
   "cell_type": "markdown",
   "id": "45dca070",
   "metadata": {},
   "source": [
    "The results are the same as with the upsampling method - for the Decision Tree model, no matter how we try to adjust the threshold to receive better results, the F1 score stays the same.\n",
    "\n",
    "Let's print the final metrics."
   ]
  },
  {
   "cell_type": "code",
   "execution_count": 59,
   "id": "136a375a",
   "metadata": {},
   "outputs": [
    {
     "name": "stdout",
     "output_type": "stream",
     "text": [
      "The F1 score of the Decision Tree algorithm is:  0.4601113172541744\n",
      "The AUC-ROC of the Decision Tree algorithm is:  0.6790181998825814\n"
     ]
    }
   ],
   "source": [
    "# Checking the F1 score of the algorithm\n",
    "print('The F1 score of the Decision Tree algorithm is: ',f1_score(valid_target, predicted_valid_tree))\n",
    "\n",
    "# Checking the AUC-ROC of the algorithm\n",
    "print('The AUC-ROC of the Decision Tree algorithm is: ',roc_auc_score(valid_target, probabilities_one_valid_tree))"
   ]
  },
  {
   "cell_type": "markdown",
   "id": "16b91a70",
   "metadata": {},
   "source": [
    "**Random Forest**"
   ]
  },
  {
   "cell_type": "code",
   "execution_count": 60,
   "id": "8350a31f",
   "metadata": {},
   "outputs": [],
   "source": [
    "# Initializing the Random Forest algorithm\n",
    "forest_downsam = RandomForestClassifier(random_state = 12345, n_estimators=300)\n",
    "\n",
    "# Training the algorithm with the training data\n",
    "forest_downsam.fit(features_downsampled, target_downsampled)\n",
    "\n",
    "# Calculating the positive class probabilities\n",
    "probabilities_valid_forest = forest_downsam.predict_proba(valid_features)\n",
    "probabilities_one_valid_forest = probabilities_valid_forest[:, 1]"
   ]
  },
  {
   "cell_type": "code",
   "execution_count": 61,
   "id": "18e129a8",
   "metadata": {},
   "outputs": [
    {
     "name": "stdout",
     "output_type": "stream",
     "text": [
      "Threshold = 0.0 | f1_score = 0.3351648351648352\n",
      "--------------------------------------\n",
      "Threshold = 0.02 | f1_score = 0.3363970588235294\n",
      "--------------------------------------\n",
      "Threshold = 0.04 | f1_score = 0.3430178069353327\n",
      "--------------------------------------\n",
      "Threshold = 0.06 | f1_score = 0.352431391429947\n",
      "--------------------------------------\n",
      "Threshold = 0.08 | f1_score = 0.3602977667493797\n",
      "--------------------------------------\n",
      "Threshold = 0.1 | f1_score = 0.3709016393442623\n",
      "--------------------------------------\n",
      "Threshold = 0.12 | f1_score = 0.3801478352692714\n",
      "--------------------------------------\n",
      "Threshold = 0.14 | f1_score = 0.3880434782608696\n",
      "--------------------------------------\n",
      "Threshold = 0.16 | f1_score = 0.3984243106359032\n",
      "--------------------------------------\n",
      "Threshold = 0.18 | f1_score = 0.40674026728646134\n",
      "--------------------------------------\n",
      "Threshold = 0.2 | f1_score = 0.4167164179104478\n",
      "--------------------------------------\n",
      "Threshold = 0.22 | f1_score = 0.42768079800498754\n",
      "--------------------------------------\n",
      "Threshold = 0.24 | f1_score = 0.43826761473820297\n",
      "--------------------------------------\n",
      "Threshold = 0.26 | f1_score = 0.4502688172043011\n",
      "--------------------------------------\n",
      "Threshold = 0.28 | f1_score = 0.46573426573426574\n",
      "--------------------------------------\n",
      "Threshold = 0.3 | f1_score = 0.47577729573391175\n",
      "--------------------------------------\n",
      "Threshold = 0.32 | f1_score = 0.484984984984985\n",
      "--------------------------------------\n",
      "Threshold = 0.34 | f1_score = 0.4976525821596244\n",
      "--------------------------------------\n",
      "Threshold = 0.36 | f1_score = 0.5148026315789473\n",
      "--------------------------------------\n",
      "Threshold = 0.38 | f1_score = 0.5216652506372133\n",
      "--------------------------------------\n",
      "Threshold = 0.4 | f1_score = 0.5359712230215827\n",
      "--------------------------------------\n",
      "Threshold = 0.42 | f1_score = 0.5430954587581094\n",
      "--------------------------------------\n",
      "Threshold = 0.44 | f1_score = 0.5563041385948027\n",
      "--------------------------------------\n",
      "Threshold = 0.46 | f1_score = 0.5599194360523666\n",
      "--------------------------------------\n",
      "Threshold = 0.48 | f1_score = 0.5687303252885625\n",
      "--------------------------------------\n",
      "Threshold = 0.5 | f1_score = 0.5729847494553377\n",
      "--------------------------------------\n",
      "Threshold = 0.52 | f1_score = 0.5846501128668171\n",
      "--------------------------------------\n",
      "Threshold = 0.54 | f1_score = 0.58698224852071\n",
      "--------------------------------------\n",
      "Threshold = 0.56 | f1_score = 0.5862068965517241\n",
      "--------------------------------------\n",
      "Threshold = 0.58 | f1_score = 0.5897435897435899\n",
      "--------------------------------------\n",
      "Threshold = 0.6 | f1_score = 0.582995951417004\n",
      "--------------------------------------\n",
      "Threshold = 0.62 | f1_score = 0.5902097902097901\n",
      "--------------------------------------\n",
      "Threshold = 0.64 | f1_score = 0.5967976710334789\n",
      "--------------------------------------\n",
      "Threshold = 0.66 | f1_score = 0.5809379727685324\n",
      "--------------------------------------\n",
      "Threshold = 0.68 | f1_score = 0.5669291338582677\n",
      "--------------------------------------\n"
     ]
    }
   ],
   "source": [
    "#Setting up a different threshold \n",
    "for i in np.arange(0, 0.7, 0.02):\n",
    "    predicted_valid_forest = probabilities_one_valid_forest > i\n",
    "    print('Threshold =',i, '|', 'f1_score =', f1_score(valid_target, predicted_valid_forest))\n",
    "    print('--------------------------------------')"
   ]
  },
  {
   "cell_type": "markdown",
   "id": "32057aab",
   "metadata": {},
   "source": [
    "We can see in the output that the model get the best F1 score when the threshold is set to 0.64.\n",
    "\n",
    "Let's print the final metrics."
   ]
  },
  {
   "cell_type": "code",
   "execution_count": 62,
   "id": "8e317ca8",
   "metadata": {},
   "outputs": [
    {
     "name": "stdout",
     "output_type": "stream",
     "text": [
      "The F1 score of the Random Forest algorithm is:  0.5967976710334789\n",
      "The AUC-ROC of the Random Forest algorithm is:  0.8405779102500414\n"
     ]
    }
   ],
   "source": [
    "#Printing the F1 score of the algorithm\n",
    "predicted_valid_forest = probabilities_one_valid_forest > 0.64\n",
    "print('The F1 score of the Random Forest algorithm is: ',f1_score(valid_target, predicted_valid_forest))\n",
    "\n",
    "# Checking the AUC-ROC of the algorithm\n",
    "print('The AUC-ROC of the Random Forest algorithm is: ',roc_auc_score(valid_target, probabilities_one_valid_forest))"
   ]
  },
  {
   "cell_type": "markdown",
   "id": "750346fd",
   "metadata": {},
   "source": [
    "As it was in the first approach, the Random Forest is the algorithm that has the best performance in the downsampling approach. It has been reached the F1 score of 0.59 - yay! (Although in the first approach of the upsampling method, the random tree got a higher F1 score - 0.6).\n",
    "\n",
    "Now let's go test it on the test set to see which of the approaches is the best. "
   ]
  },
  {
   "cell_type": "markdown",
   "id": "c3016c2d",
   "metadata": {},
   "source": [
    "### Step 4: Perform the final testing"
   ]
  },
  {
   "cell_type": "code",
   "execution_count": 63,
   "id": "2849a801",
   "metadata": {},
   "outputs": [
    {
     "name": "stdout",
     "output_type": "stream",
     "text": [
      "The F1 score of the Random Forest algorithm with the upsampled data is:  0.5936199722607489\n",
      "The AUC-ROC of the Random Forest algorithm with the upsampled data is:  0.854088402952995\n"
     ]
    }
   ],
   "source": [
    "# Testing the upsampled Forest model\n",
    "probabilities_test = forest_upsam.predict_proba(test_features)\n",
    "probabilities_one_test_forest = probabilities_test[:, 1]\n",
    "\n",
    "predicted_test_forest = probabilities_one_test_forest > 0.44\n",
    "\n",
    "print('The F1 score of the Random Forest algorithm with the upsampled data is: ',f1_score(test_target, predicted_test_forest))\n",
    "print('The AUC-ROC of the Random Forest algorithm with the upsampled data is: ',roc_auc_score(test_target, probabilities_one_test_forest))"
   ]
  },
  {
   "cell_type": "code",
   "execution_count": 64,
   "id": "ffbddcc5",
   "metadata": {},
   "outputs": [
    {
     "name": "stdout",
     "output_type": "stream",
     "text": [
      "The F1 score of the Random Forest algorithm with the downsampled data is:  0.5777777777777777\n",
      "The AUC-ROC of the Random Forest algorithm downsampled data is:  0.8492580132697879\n"
     ]
    }
   ],
   "source": [
    "# Testing the downsampled Forest model\n",
    "probabilities_test = forest_downsam.predict_proba(test_features)\n",
    "probabilities_one_test_forest = probabilities_test[:, 1]\n",
    "\n",
    "predicted_test_forest = probabilities_one_test_forest > 0.64\n",
    "\n",
    "print('The F1 score of the Random Forest algorithm with the downsampled data is: ',f1_score(test_target, predicted_test_forest))\n",
    "print('The AUC-ROC of the Random Forest algorithm downsampled data is: ',roc_auc_score(test_target, probabilities_one_test_forest))"
   ]
  },
  {
   "cell_type": "markdown",
   "id": "a5a2fb0b",
   "metadata": {},
   "source": [
    "The model performs better with the upsampled data - the model has reached F1 score of 0.59 with the test dataset, compared with the downsampled data. Although the AUC-ROC metric is almost the same for both of the datasets - around 0.85 (the maximum score is 1) - which means that the quality of the model is good. \n",
    "\n",
    "Biana."
   ]
  }
 ],
 "metadata": {
  "kernelspec": {
   "display_name": "Python 3 (ipykernel)",
   "language": "python",
   "name": "python3"
  },
  "language_info": {
   "codemirror_mode": {
    "name": "ipython",
    "version": 3
   },
   "file_extension": ".py",
   "mimetype": "text/x-python",
   "name": "python",
   "nbconvert_exporter": "python",
   "pygments_lexer": "ipython3",
   "version": "3.9.7"
  },
  "toc": {
   "base_numbering": 1,
   "nav_menu": {},
   "number_sections": true,
   "sideBar": true,
   "skip_h1_title": true,
   "title_cell": "Table of Contents",
   "title_sidebar": "Contents",
   "toc_cell": false,
   "toc_position": {},
   "toc_section_display": true,
   "toc_window_display": false
  }
 },
 "nbformat": 4,
 "nbformat_minor": 5
}
